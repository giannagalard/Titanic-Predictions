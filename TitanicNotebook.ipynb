{
 "cells": [
  {
   "cell_type": "raw",
   "id": "91522952",
   "metadata": {},
   "source": [
    "                     _____ _ _              _        ____               _ _      _   _                 \n",
    "                     |_   _(_) |_ __ _ _ __ (_) ___  |  _ \\ _ __ ___  __| (_) ___| |_(_) ___  _ __  ___ \n",
    "                       | | | | __/ _` | '_ \\| |/ __| | |_) | '__/ _ \\/ _` | |/ __| __| |/ _ \\| '_ \\/ __|\n",
    "                       | | | | || (_| | | | | | (__  |  __/| | |  __/ (_| | | (__| |_| | (_) | | | \\__ \\\n",
    "                       |_| |_|\\__\\__,_|_| |_|_|\\___| |_|   |_|  \\___|\\__,_|_|\\___|\\__|_|\\___/|_| |_|___/\n",
    "\n",
    "\n",
    "\n",
    "                                    / \\\n",
    "                                __/    \\_\n",
    "                               /_  -  \\  \\                      ,:',:`,:' \n",
    "                              / / /     \\ \\                  __||_||_||_||___\n",
    "                             |    |     / |             ____[\"\"\"\"\"\"\"\"\"\"\"\"\"\"\"\"]___\n",
    "                             /   /     \\   \\            \\ \" '''''''''''''''''''' \\\n",
    "                             ~~^~^~HZ~~^~^~^~~^~^~^~~jgs~^~^~^^~^~^~^~^~^~^~^~~^~^~^~^~~^~^"
   ]
  },
  {
   "cell_type": "markdown",
   "id": "515783d8",
   "metadata": {},
   "source": [
    "<span style='color:DodgerBlue  '>\n",
    "<h2 align=\"center\">𝘼𝙐𝙏𝙃𝙊𝙍𝙎:</h2> </span>\n",
    "<h3 align=\"center\">𝘎𝘪𝘢𝘯𝘯𝘢 𝘎𝘢𝘭𝘢𝘳𝘥, 𝘎𝘦𝘰𝘳𝘨𝘦 𝘔𝘦𝘭𝘦𝘬, 𝘈𝘶𝘴𝘵𝘪𝘯 𝘓𝘪</h3>\n",
    "<a id = 1> </a> \n"
   ]
  },
  {
   "cell_type": "markdown",
   "id": "dcede1a3",
   "metadata": {},
   "source": [
    "<h1 align=\"center\">\n",
    "    <span style = 'color:DodgerBlue'>\n",
    "        ⎽⎼⎻⎺⎺⎻⎼⎽⎽⎼⎻⎺⎺⎻⎼⎽⎽⎼⎻⎺⎺⎻⎼⎽⎽⎼⎻⎺⎺⎻⎼⎽⎽⎼⎻⎺⎺⎻⎼⎽⎽⎼⎻⎺⎺⎻⎼⎽⎽⎼⎻⎺⎺⎻⎼⎽⎽⎼⎻⎺⎺⎻⎼⎽\n",
    "    </span>\n",
    "</h1>"
   ]
  },
  {
   "cell_type": "markdown",
   "id": "d60e09e0",
   "metadata": {},
   "source": [
    "<h1 align=\"center\">\n",
    "    <span style='background: PaleTurquoise'>\n",
    "        <span style='color:DodgerBlue'> \n",
    "            𝙇𝙊𝙊𝙆𝙄𝙉𝙂 𝘼𝙏 𝙏𝙃𝙀 𝘿𝘼𝙏𝘼\n",
    "        </span>\n",
    "    </span>\n",
    "</h1>"
   ]
  },
  {
   "cell_type": "code",
   "execution_count": 1,
   "id": "643dbe12",
   "metadata": {},
   "outputs": [],
   "source": [
    "# import packages\n",
    "import numpy as np\n",
    "import matplotlib.pyplot as plt\n",
    "import pandas as pd\n",
    "# split data\n",
    "from sklearn.model_selection import train_test_split\n",
    "# encoding\n",
    "from sklearn.preprocessing import LabelEncoder\n",
    "# logistic regression\n",
    "from sklearn.linear_model import LogisticRegression\n",
    "# decision tree\n",
    "from sklearn.tree import DecisionTreeClassifier\n",
    "from sklearn import tree\n",
    "# svm\n",
    "from sklearn.svm import SVC\n",
    "# accuracy \n",
    "from sklearn.metrics import accuracy_score\n",
    "from sklearn.model_selection import cross_val_score\n",
    "from sklearn.metrics import classification_report, roc_auc_score, plot_confusion_matrix\n",
    "# ridge\n",
    "from sklearn.linear_model import Ridge\n",
    "# lasso\n",
    "from sklearn.linear_model import Lasso"
   ]
  },
  {
   "cell_type": "code",
   "execution_count": 2,
   "id": "350695a5",
   "metadata": {},
   "outputs": [
    {
     "data": {
      "text/html": [
       "<div>\n",
       "<style scoped>\n",
       "    .dataframe tbody tr th:only-of-type {\n",
       "        vertical-align: middle;\n",
       "    }\n",
       "\n",
       "    .dataframe tbody tr th {\n",
       "        vertical-align: top;\n",
       "    }\n",
       "\n",
       "    .dataframe thead th {\n",
       "        text-align: right;\n",
       "    }\n",
       "</style>\n",
       "<table border=\"1\" class=\"dataframe\">\n",
       "  <thead>\n",
       "    <tr style=\"text-align: right;\">\n",
       "      <th></th>\n",
       "      <th>PassengerId</th>\n",
       "      <th>Survived</th>\n",
       "      <th>Pclass</th>\n",
       "      <th>Name</th>\n",
       "      <th>Sex</th>\n",
       "      <th>Age</th>\n",
       "      <th>SibSp</th>\n",
       "      <th>Parch</th>\n",
       "      <th>Ticket</th>\n",
       "      <th>Fare</th>\n",
       "      <th>Cabin</th>\n",
       "      <th>Embarked</th>\n",
       "    </tr>\n",
       "  </thead>\n",
       "  <tbody>\n",
       "    <tr>\n",
       "      <th>0</th>\n",
       "      <td>1</td>\n",
       "      <td>0</td>\n",
       "      <td>3</td>\n",
       "      <td>Braund, Mr. Owen Harris</td>\n",
       "      <td>male</td>\n",
       "      <td>22.0</td>\n",
       "      <td>1</td>\n",
       "      <td>0</td>\n",
       "      <td>A/5 21171</td>\n",
       "      <td>7.2500</td>\n",
       "      <td>NaN</td>\n",
       "      <td>S</td>\n",
       "    </tr>\n",
       "    <tr>\n",
       "      <th>1</th>\n",
       "      <td>2</td>\n",
       "      <td>1</td>\n",
       "      <td>1</td>\n",
       "      <td>Cumings, Mrs. John Bradley (Florence Briggs Th...</td>\n",
       "      <td>female</td>\n",
       "      <td>38.0</td>\n",
       "      <td>1</td>\n",
       "      <td>0</td>\n",
       "      <td>PC 17599</td>\n",
       "      <td>71.2833</td>\n",
       "      <td>C85</td>\n",
       "      <td>C</td>\n",
       "    </tr>\n",
       "    <tr>\n",
       "      <th>2</th>\n",
       "      <td>3</td>\n",
       "      <td>1</td>\n",
       "      <td>3</td>\n",
       "      <td>Heikkinen, Miss. Laina</td>\n",
       "      <td>female</td>\n",
       "      <td>26.0</td>\n",
       "      <td>0</td>\n",
       "      <td>0</td>\n",
       "      <td>STON/O2. 3101282</td>\n",
       "      <td>7.9250</td>\n",
       "      <td>NaN</td>\n",
       "      <td>S</td>\n",
       "    </tr>\n",
       "    <tr>\n",
       "      <th>3</th>\n",
       "      <td>4</td>\n",
       "      <td>1</td>\n",
       "      <td>1</td>\n",
       "      <td>Futrelle, Mrs. Jacques Heath (Lily May Peel)</td>\n",
       "      <td>female</td>\n",
       "      <td>35.0</td>\n",
       "      <td>1</td>\n",
       "      <td>0</td>\n",
       "      <td>113803</td>\n",
       "      <td>53.1000</td>\n",
       "      <td>C123</td>\n",
       "      <td>S</td>\n",
       "    </tr>\n",
       "    <tr>\n",
       "      <th>4</th>\n",
       "      <td>5</td>\n",
       "      <td>0</td>\n",
       "      <td>3</td>\n",
       "      <td>Allen, Mr. William Henry</td>\n",
       "      <td>male</td>\n",
       "      <td>35.0</td>\n",
       "      <td>0</td>\n",
       "      <td>0</td>\n",
       "      <td>373450</td>\n",
       "      <td>8.0500</td>\n",
       "      <td>NaN</td>\n",
       "      <td>S</td>\n",
       "    </tr>\n",
       "    <tr>\n",
       "      <th>...</th>\n",
       "      <td>...</td>\n",
       "      <td>...</td>\n",
       "      <td>...</td>\n",
       "      <td>...</td>\n",
       "      <td>...</td>\n",
       "      <td>...</td>\n",
       "      <td>...</td>\n",
       "      <td>...</td>\n",
       "      <td>...</td>\n",
       "      <td>...</td>\n",
       "      <td>...</td>\n",
       "      <td>...</td>\n",
       "    </tr>\n",
       "    <tr>\n",
       "      <th>886</th>\n",
       "      <td>887</td>\n",
       "      <td>0</td>\n",
       "      <td>2</td>\n",
       "      <td>Montvila, Rev. Juozas</td>\n",
       "      <td>male</td>\n",
       "      <td>27.0</td>\n",
       "      <td>0</td>\n",
       "      <td>0</td>\n",
       "      <td>211536</td>\n",
       "      <td>13.0000</td>\n",
       "      <td>NaN</td>\n",
       "      <td>S</td>\n",
       "    </tr>\n",
       "    <tr>\n",
       "      <th>887</th>\n",
       "      <td>888</td>\n",
       "      <td>1</td>\n",
       "      <td>1</td>\n",
       "      <td>Graham, Miss. Margaret Edith</td>\n",
       "      <td>female</td>\n",
       "      <td>19.0</td>\n",
       "      <td>0</td>\n",
       "      <td>0</td>\n",
       "      <td>112053</td>\n",
       "      <td>30.0000</td>\n",
       "      <td>B42</td>\n",
       "      <td>S</td>\n",
       "    </tr>\n",
       "    <tr>\n",
       "      <th>888</th>\n",
       "      <td>889</td>\n",
       "      <td>0</td>\n",
       "      <td>3</td>\n",
       "      <td>Johnston, Miss. Catherine Helen \"Carrie\"</td>\n",
       "      <td>female</td>\n",
       "      <td>NaN</td>\n",
       "      <td>1</td>\n",
       "      <td>2</td>\n",
       "      <td>W./C. 6607</td>\n",
       "      <td>23.4500</td>\n",
       "      <td>NaN</td>\n",
       "      <td>S</td>\n",
       "    </tr>\n",
       "    <tr>\n",
       "      <th>889</th>\n",
       "      <td>890</td>\n",
       "      <td>1</td>\n",
       "      <td>1</td>\n",
       "      <td>Behr, Mr. Karl Howell</td>\n",
       "      <td>male</td>\n",
       "      <td>26.0</td>\n",
       "      <td>0</td>\n",
       "      <td>0</td>\n",
       "      <td>111369</td>\n",
       "      <td>30.0000</td>\n",
       "      <td>C148</td>\n",
       "      <td>C</td>\n",
       "    </tr>\n",
       "    <tr>\n",
       "      <th>890</th>\n",
       "      <td>891</td>\n",
       "      <td>0</td>\n",
       "      <td>3</td>\n",
       "      <td>Dooley, Mr. Patrick</td>\n",
       "      <td>male</td>\n",
       "      <td>32.0</td>\n",
       "      <td>0</td>\n",
       "      <td>0</td>\n",
       "      <td>370376</td>\n",
       "      <td>7.7500</td>\n",
       "      <td>NaN</td>\n",
       "      <td>Q</td>\n",
       "    </tr>\n",
       "  </tbody>\n",
       "</table>\n",
       "<p>891 rows × 12 columns</p>\n",
       "</div>"
      ],
      "text/plain": [
       "     PassengerId  Survived  Pclass  \\\n",
       "0              1         0       3   \n",
       "1              2         1       1   \n",
       "2              3         1       3   \n",
       "3              4         1       1   \n",
       "4              5         0       3   \n",
       "..           ...       ...     ...   \n",
       "886          887         0       2   \n",
       "887          888         1       1   \n",
       "888          889         0       3   \n",
       "889          890         1       1   \n",
       "890          891         0       3   \n",
       "\n",
       "                                                  Name     Sex   Age  SibSp  \\\n",
       "0                              Braund, Mr. Owen Harris    male  22.0      1   \n",
       "1    Cumings, Mrs. John Bradley (Florence Briggs Th...  female  38.0      1   \n",
       "2                               Heikkinen, Miss. Laina  female  26.0      0   \n",
       "3         Futrelle, Mrs. Jacques Heath (Lily May Peel)  female  35.0      1   \n",
       "4                             Allen, Mr. William Henry    male  35.0      0   \n",
       "..                                                 ...     ...   ...    ...   \n",
       "886                              Montvila, Rev. Juozas    male  27.0      0   \n",
       "887                       Graham, Miss. Margaret Edith  female  19.0      0   \n",
       "888           Johnston, Miss. Catherine Helen \"Carrie\"  female   NaN      1   \n",
       "889                              Behr, Mr. Karl Howell    male  26.0      0   \n",
       "890                                Dooley, Mr. Patrick    male  32.0      0   \n",
       "\n",
       "     Parch            Ticket     Fare Cabin Embarked  \n",
       "0        0         A/5 21171   7.2500   NaN        S  \n",
       "1        0          PC 17599  71.2833   C85        C  \n",
       "2        0  STON/O2. 3101282   7.9250   NaN        S  \n",
       "3        0            113803  53.1000  C123        S  \n",
       "4        0            373450   8.0500   NaN        S  \n",
       "..     ...               ...      ...   ...      ...  \n",
       "886      0            211536  13.0000   NaN        S  \n",
       "887      0            112053  30.0000   B42        S  \n",
       "888      2        W./C. 6607  23.4500   NaN        S  \n",
       "889      0            111369  30.0000  C148        C  \n",
       "890      0            370376   7.7500   NaN        Q  \n",
       "\n",
       "[891 rows x 12 columns]"
      ]
     },
     "execution_count": 2,
     "metadata": {},
     "output_type": "execute_result"
    }
   ],
   "source": [
    "# import data from csv file for training\n",
    "dataset = pd.read_csv('data/train.csv')\n",
    "# dataset = pd.read_csv('/Users/george/Downloads/train.csv')\n",
    "dataset # print dataset"
   ]
  },
  {
   "cell_type": "code",
   "execution_count": 3,
   "id": "7f1824f5",
   "metadata": {},
   "outputs": [
    {
     "data": {
      "text/plain": [
       "(891, 12)"
      ]
     },
     "execution_count": 3,
     "metadata": {},
     "output_type": "execute_result"
    }
   ],
   "source": [
    "# shape of train dataframes\n",
    "dataset.shape "
   ]
  },
  {
   "cell_type": "code",
   "execution_count": 4,
   "id": "aab0de64",
   "metadata": {},
   "outputs": [
    {
     "data": {
      "text/html": [
       "<div>\n",
       "<style scoped>\n",
       "    .dataframe tbody tr th:only-of-type {\n",
       "        vertical-align: middle;\n",
       "    }\n",
       "\n",
       "    .dataframe tbody tr th {\n",
       "        vertical-align: top;\n",
       "    }\n",
       "\n",
       "    .dataframe thead th {\n",
       "        text-align: right;\n",
       "    }\n",
       "</style>\n",
       "<table border=\"1\" class=\"dataframe\">\n",
       "  <thead>\n",
       "    <tr style=\"text-align: right;\">\n",
       "      <th></th>\n",
       "      <th>PassengerId</th>\n",
       "      <th>Survived</th>\n",
       "      <th>Pclass</th>\n",
       "      <th>Name</th>\n",
       "      <th>Sex</th>\n",
       "      <th>Age</th>\n",
       "      <th>SibSp</th>\n",
       "      <th>Parch</th>\n",
       "      <th>Ticket</th>\n",
       "      <th>Fare</th>\n",
       "      <th>Cabin</th>\n",
       "      <th>Embarked</th>\n",
       "    </tr>\n",
       "  </thead>\n",
       "  <tbody>\n",
       "    <tr>\n",
       "      <th>0</th>\n",
       "      <td>1</td>\n",
       "      <td>0</td>\n",
       "      <td>3</td>\n",
       "      <td>Braund, Mr. Owen Harris</td>\n",
       "      <td>male</td>\n",
       "      <td>22.0</td>\n",
       "      <td>1</td>\n",
       "      <td>0</td>\n",
       "      <td>A/5 21171</td>\n",
       "      <td>7.2500</td>\n",
       "      <td>NaN</td>\n",
       "      <td>S</td>\n",
       "    </tr>\n",
       "    <tr>\n",
       "      <th>1</th>\n",
       "      <td>2</td>\n",
       "      <td>1</td>\n",
       "      <td>1</td>\n",
       "      <td>Cumings, Mrs. John Bradley (Florence Briggs Th...</td>\n",
       "      <td>female</td>\n",
       "      <td>38.0</td>\n",
       "      <td>1</td>\n",
       "      <td>0</td>\n",
       "      <td>PC 17599</td>\n",
       "      <td>71.2833</td>\n",
       "      <td>C85</td>\n",
       "      <td>C</td>\n",
       "    </tr>\n",
       "    <tr>\n",
       "      <th>2</th>\n",
       "      <td>3</td>\n",
       "      <td>1</td>\n",
       "      <td>3</td>\n",
       "      <td>Heikkinen, Miss. Laina</td>\n",
       "      <td>female</td>\n",
       "      <td>26.0</td>\n",
       "      <td>0</td>\n",
       "      <td>0</td>\n",
       "      <td>STON/O2. 3101282</td>\n",
       "      <td>7.9250</td>\n",
       "      <td>NaN</td>\n",
       "      <td>S</td>\n",
       "    </tr>\n",
       "    <tr>\n",
       "      <th>3</th>\n",
       "      <td>4</td>\n",
       "      <td>1</td>\n",
       "      <td>1</td>\n",
       "      <td>Futrelle, Mrs. Jacques Heath (Lily May Peel)</td>\n",
       "      <td>female</td>\n",
       "      <td>35.0</td>\n",
       "      <td>1</td>\n",
       "      <td>0</td>\n",
       "      <td>113803</td>\n",
       "      <td>53.1000</td>\n",
       "      <td>C123</td>\n",
       "      <td>S</td>\n",
       "    </tr>\n",
       "    <tr>\n",
       "      <th>4</th>\n",
       "      <td>5</td>\n",
       "      <td>0</td>\n",
       "      <td>3</td>\n",
       "      <td>Allen, Mr. William Henry</td>\n",
       "      <td>male</td>\n",
       "      <td>35.0</td>\n",
       "      <td>0</td>\n",
       "      <td>0</td>\n",
       "      <td>373450</td>\n",
       "      <td>8.0500</td>\n",
       "      <td>NaN</td>\n",
       "      <td>S</td>\n",
       "    </tr>\n",
       "  </tbody>\n",
       "</table>\n",
       "</div>"
      ],
      "text/plain": [
       "   PassengerId  Survived  Pclass  \\\n",
       "0            1         0       3   \n",
       "1            2         1       1   \n",
       "2            3         1       3   \n",
       "3            4         1       1   \n",
       "4            5         0       3   \n",
       "\n",
       "                                                Name     Sex   Age  SibSp  \\\n",
       "0                            Braund, Mr. Owen Harris    male  22.0      1   \n",
       "1  Cumings, Mrs. John Bradley (Florence Briggs Th...  female  38.0      1   \n",
       "2                             Heikkinen, Miss. Laina  female  26.0      0   \n",
       "3       Futrelle, Mrs. Jacques Heath (Lily May Peel)  female  35.0      1   \n",
       "4                           Allen, Mr. William Henry    male  35.0      0   \n",
       "\n",
       "   Parch            Ticket     Fare Cabin Embarked  \n",
       "0      0         A/5 21171   7.2500   NaN        S  \n",
       "1      0          PC 17599  71.2833   C85        C  \n",
       "2      0  STON/O2. 3101282   7.9250   NaN        S  \n",
       "3      0            113803  53.1000  C123        S  \n",
       "4      0            373450   8.0500   NaN        S  "
      ]
     },
     "execution_count": 4,
     "metadata": {},
     "output_type": "execute_result"
    }
   ],
   "source": [
    "# first 5 rows of train dataframe\n",
    "dataset.head()"
   ]
  },
  {
   "cell_type": "code",
   "execution_count": 5,
   "id": "26e0bd57",
   "metadata": {},
   "outputs": [
    {
     "name": "stdout",
     "output_type": "stream",
     "text": [
      "<class 'pandas.core.frame.DataFrame'>\n",
      "RangeIndex: 891 entries, 0 to 890\n",
      "Data columns (total 12 columns):\n",
      " #   Column       Non-Null Count  Dtype  \n",
      "---  ------       --------------  -----  \n",
      " 0   PassengerId  891 non-null    int64  \n",
      " 1   Survived     891 non-null    int64  \n",
      " 2   Pclass       891 non-null    int64  \n",
      " 3   Name         891 non-null    object \n",
      " 4   Sex          891 non-null    object \n",
      " 5   Age          714 non-null    float64\n",
      " 6   SibSp        891 non-null    int64  \n",
      " 7   Parch        891 non-null    int64  \n",
      " 8   Ticket       891 non-null    object \n",
      " 9   Fare         891 non-null    float64\n",
      " 10  Cabin        204 non-null    object \n",
      " 11  Embarked     889 non-null    object \n",
      "dtypes: float64(2), int64(5), object(5)\n",
      "memory usage: 83.7+ KB\n"
     ]
    }
   ],
   "source": [
    "# print train dataframe info \n",
    "dataset.info()"
   ]
  },
  {
   "cell_type": "code",
   "execution_count": 6,
   "id": "fbb04973",
   "metadata": {},
   "outputs": [
    {
     "data": {
      "text/html": [
       "<div>\n",
       "<style scoped>\n",
       "    .dataframe tbody tr th:only-of-type {\n",
       "        vertical-align: middle;\n",
       "    }\n",
       "\n",
       "    .dataframe tbody tr th {\n",
       "        vertical-align: top;\n",
       "    }\n",
       "\n",
       "    .dataframe thead th {\n",
       "        text-align: right;\n",
       "    }\n",
       "</style>\n",
       "<table border=\"1\" class=\"dataframe\">\n",
       "  <thead>\n",
       "    <tr style=\"text-align: right;\">\n",
       "      <th></th>\n",
       "      <th>PassengerId</th>\n",
       "      <th>Survived</th>\n",
       "      <th>Pclass</th>\n",
       "      <th>Age</th>\n",
       "      <th>SibSp</th>\n",
       "      <th>Parch</th>\n",
       "      <th>Fare</th>\n",
       "    </tr>\n",
       "  </thead>\n",
       "  <tbody>\n",
       "    <tr>\n",
       "      <th>count</th>\n",
       "      <td>891.000000</td>\n",
       "      <td>891.000000</td>\n",
       "      <td>891.000000</td>\n",
       "      <td>714.000000</td>\n",
       "      <td>891.000000</td>\n",
       "      <td>891.000000</td>\n",
       "      <td>891.000000</td>\n",
       "    </tr>\n",
       "    <tr>\n",
       "      <th>mean</th>\n",
       "      <td>446.000000</td>\n",
       "      <td>0.383838</td>\n",
       "      <td>2.308642</td>\n",
       "      <td>29.699118</td>\n",
       "      <td>0.523008</td>\n",
       "      <td>0.381594</td>\n",
       "      <td>32.204208</td>\n",
       "    </tr>\n",
       "    <tr>\n",
       "      <th>std</th>\n",
       "      <td>257.353842</td>\n",
       "      <td>0.486592</td>\n",
       "      <td>0.836071</td>\n",
       "      <td>14.526497</td>\n",
       "      <td>1.102743</td>\n",
       "      <td>0.806057</td>\n",
       "      <td>49.693429</td>\n",
       "    </tr>\n",
       "    <tr>\n",
       "      <th>min</th>\n",
       "      <td>1.000000</td>\n",
       "      <td>0.000000</td>\n",
       "      <td>1.000000</td>\n",
       "      <td>0.420000</td>\n",
       "      <td>0.000000</td>\n",
       "      <td>0.000000</td>\n",
       "      <td>0.000000</td>\n",
       "    </tr>\n",
       "    <tr>\n",
       "      <th>25%</th>\n",
       "      <td>223.500000</td>\n",
       "      <td>0.000000</td>\n",
       "      <td>2.000000</td>\n",
       "      <td>20.125000</td>\n",
       "      <td>0.000000</td>\n",
       "      <td>0.000000</td>\n",
       "      <td>7.910400</td>\n",
       "    </tr>\n",
       "    <tr>\n",
       "      <th>50%</th>\n",
       "      <td>446.000000</td>\n",
       "      <td>0.000000</td>\n",
       "      <td>3.000000</td>\n",
       "      <td>28.000000</td>\n",
       "      <td>0.000000</td>\n",
       "      <td>0.000000</td>\n",
       "      <td>14.454200</td>\n",
       "    </tr>\n",
       "    <tr>\n",
       "      <th>75%</th>\n",
       "      <td>668.500000</td>\n",
       "      <td>1.000000</td>\n",
       "      <td>3.000000</td>\n",
       "      <td>38.000000</td>\n",
       "      <td>1.000000</td>\n",
       "      <td>0.000000</td>\n",
       "      <td>31.000000</td>\n",
       "    </tr>\n",
       "    <tr>\n",
       "      <th>max</th>\n",
       "      <td>891.000000</td>\n",
       "      <td>1.000000</td>\n",
       "      <td>3.000000</td>\n",
       "      <td>80.000000</td>\n",
       "      <td>8.000000</td>\n",
       "      <td>6.000000</td>\n",
       "      <td>512.329200</td>\n",
       "    </tr>\n",
       "  </tbody>\n",
       "</table>\n",
       "</div>"
      ],
      "text/plain": [
       "       PassengerId    Survived      Pclass         Age       SibSp  \\\n",
       "count   891.000000  891.000000  891.000000  714.000000  891.000000   \n",
       "mean    446.000000    0.383838    2.308642   29.699118    0.523008   \n",
       "std     257.353842    0.486592    0.836071   14.526497    1.102743   \n",
       "min       1.000000    0.000000    1.000000    0.420000    0.000000   \n",
       "25%     223.500000    0.000000    2.000000   20.125000    0.000000   \n",
       "50%     446.000000    0.000000    3.000000   28.000000    0.000000   \n",
       "75%     668.500000    1.000000    3.000000   38.000000    1.000000   \n",
       "max     891.000000    1.000000    3.000000   80.000000    8.000000   \n",
       "\n",
       "            Parch        Fare  \n",
       "count  891.000000  891.000000  \n",
       "mean     0.381594   32.204208  \n",
       "std      0.806057   49.693429  \n",
       "min      0.000000    0.000000  \n",
       "25%      0.000000    7.910400  \n",
       "50%      0.000000   14.454200  \n",
       "75%      0.000000   31.000000  \n",
       "max      6.000000  512.329200  "
      ]
     },
     "execution_count": 6,
     "metadata": {},
     "output_type": "execute_result"
    }
   ],
   "source": [
    "# generate statistics\n",
    "dataset.describe()"
   ]
  },
  {
   "cell_type": "markdown",
   "id": "cf1362f8",
   "metadata": {},
   "source": [
    "<h1 align=\"center\">\n",
    "    <span style = 'color:DodgerBlue'>\n",
    "        ⎽⎼⎻⎺⎺⎻⎼⎽⎽⎼⎻⎺⎺⎻⎼⎽⎽⎼⎻⎺⎺⎻⎼⎽⎽⎼⎻⎺⎺⎻⎼⎽⎽⎼⎻⎺⎺⎻⎼⎽⎽⎼⎻⎺⎺⎻⎼⎽⎽⎼⎻⎺⎺⎻⎼⎽⎽⎼⎻⎺⎺⎻⎼⎽\n",
    "    </span>\n",
    "</h1>"
   ]
  },
  {
   "cell_type": "markdown",
   "id": "9f7ff592",
   "metadata": {},
   "source": [
    "<h1 align=\"center\"><span style='color:DodgerBlue'> \n",
    "    <span style='background: PaleTurquoise'>\n",
    "        𝘿𝘼𝙏𝘼 𝘾𝙇𝙀𝘼𝙉𝙄𝙉𝙂 𝘼𝙉𝘿 𝙁𝙀𝘼𝙏𝙐𝙍𝙀 𝙀𝙉𝙂𝙄𝙉𝙀𝙀𝙍𝙄𝙉𝙂\n",
    "    </span>\n",
    "    </span>\n",
    "</h1>"
   ]
  },
  {
   "cell_type": "code",
   "execution_count": 7,
   "id": "b15bdfab",
   "metadata": {},
   "outputs": [
    {
     "data": {
      "text/html": [
       "<div>\n",
       "<style scoped>\n",
       "    .dataframe tbody tr th:only-of-type {\n",
       "        vertical-align: middle;\n",
       "    }\n",
       "\n",
       "    .dataframe tbody tr th {\n",
       "        vertical-align: top;\n",
       "    }\n",
       "\n",
       "    .dataframe thead th {\n",
       "        text-align: right;\n",
       "    }\n",
       "</style>\n",
       "<table border=\"1\" class=\"dataframe\">\n",
       "  <thead>\n",
       "    <tr style=\"text-align: right;\">\n",
       "      <th></th>\n",
       "      <th>PassengerId</th>\n",
       "      <th>Survived</th>\n",
       "      <th>Pclass</th>\n",
       "      <th>Name</th>\n",
       "      <th>Sex</th>\n",
       "      <th>Age</th>\n",
       "      <th>SibSp</th>\n",
       "      <th>Parch</th>\n",
       "      <th>Ticket</th>\n",
       "      <th>Fare</th>\n",
       "      <th>Cabin</th>\n",
       "      <th>Embarked</th>\n",
       "    </tr>\n",
       "  </thead>\n",
       "  <tbody>\n",
       "    <tr>\n",
       "      <th>0</th>\n",
       "      <td>1</td>\n",
       "      <td>0</td>\n",
       "      <td>3</td>\n",
       "      <td>Braund, Mr. Owen Harris</td>\n",
       "      <td>male</td>\n",
       "      <td>22.0</td>\n",
       "      <td>1</td>\n",
       "      <td>0</td>\n",
       "      <td>A/5 21171</td>\n",
       "      <td>7.2500</td>\n",
       "      <td>NaN</td>\n",
       "      <td>S</td>\n",
       "    </tr>\n",
       "    <tr>\n",
       "      <th>1</th>\n",
       "      <td>2</td>\n",
       "      <td>1</td>\n",
       "      <td>1</td>\n",
       "      <td>Cumings, Mrs. John Bradley (Florence Briggs Th...</td>\n",
       "      <td>female</td>\n",
       "      <td>38.0</td>\n",
       "      <td>1</td>\n",
       "      <td>0</td>\n",
       "      <td>PC 17599</td>\n",
       "      <td>71.2833</td>\n",
       "      <td>C85</td>\n",
       "      <td>C</td>\n",
       "    </tr>\n",
       "    <tr>\n",
       "      <th>2</th>\n",
       "      <td>3</td>\n",
       "      <td>1</td>\n",
       "      <td>3</td>\n",
       "      <td>Heikkinen, Miss. Laina</td>\n",
       "      <td>female</td>\n",
       "      <td>26.0</td>\n",
       "      <td>0</td>\n",
       "      <td>0</td>\n",
       "      <td>STON/O2. 3101282</td>\n",
       "      <td>7.9250</td>\n",
       "      <td>NaN</td>\n",
       "      <td>S</td>\n",
       "    </tr>\n",
       "    <tr>\n",
       "      <th>3</th>\n",
       "      <td>4</td>\n",
       "      <td>1</td>\n",
       "      <td>1</td>\n",
       "      <td>Futrelle, Mrs. Jacques Heath (Lily May Peel)</td>\n",
       "      <td>female</td>\n",
       "      <td>35.0</td>\n",
       "      <td>1</td>\n",
       "      <td>0</td>\n",
       "      <td>113803</td>\n",
       "      <td>53.1000</td>\n",
       "      <td>C123</td>\n",
       "      <td>S</td>\n",
       "    </tr>\n",
       "    <tr>\n",
       "      <th>4</th>\n",
       "      <td>5</td>\n",
       "      <td>0</td>\n",
       "      <td>3</td>\n",
       "      <td>Allen, Mr. William Henry</td>\n",
       "      <td>male</td>\n",
       "      <td>35.0</td>\n",
       "      <td>0</td>\n",
       "      <td>0</td>\n",
       "      <td>373450</td>\n",
       "      <td>8.0500</td>\n",
       "      <td>NaN</td>\n",
       "      <td>S</td>\n",
       "    </tr>\n",
       "  </tbody>\n",
       "</table>\n",
       "</div>"
      ],
      "text/plain": [
       "   PassengerId  Survived  Pclass  \\\n",
       "0            1         0       3   \n",
       "1            2         1       1   \n",
       "2            3         1       3   \n",
       "3            4         1       1   \n",
       "4            5         0       3   \n",
       "\n",
       "                                                Name     Sex   Age  SibSp  \\\n",
       "0                            Braund, Mr. Owen Harris    male  22.0      1   \n",
       "1  Cumings, Mrs. John Bradley (Florence Briggs Th...  female  38.0      1   \n",
       "2                             Heikkinen, Miss. Laina  female  26.0      0   \n",
       "3       Futrelle, Mrs. Jacques Heath (Lily May Peel)  female  35.0      1   \n",
       "4                           Allen, Mr. William Henry    male  35.0      0   \n",
       "\n",
       "   Parch            Ticket     Fare Cabin Embarked  \n",
       "0      0         A/5 21171   7.2500   NaN        S  \n",
       "1      0          PC 17599  71.2833   C85        C  \n",
       "2      0  STON/O2. 3101282   7.9250   NaN        S  \n",
       "3      0            113803  53.1000  C123        S  \n",
       "4      0            373450   8.0500   NaN        S  "
      ]
     },
     "execution_count": 7,
     "metadata": {},
     "output_type": "execute_result"
    }
   ],
   "source": [
    "dataset.head()"
   ]
  },
  {
   "cell_type": "code",
   "execution_count": 8,
   "id": "dddaf3fd",
   "metadata": {},
   "outputs": [],
   "source": [
    "# create boolean for is male\n",
    "sex = pd.get_dummies(dataset['Sex'],drop_first=True)\n",
    "embark = pd.get_dummies(dataset['Embarked'],drop_first=False)"
   ]
  },
  {
   "cell_type": "code",
   "execution_count": 9,
   "id": "c4d9c1fc",
   "metadata": {},
   "outputs": [],
   "source": [
    "dataset.drop(['Sex','Embarked','Name','Ticket'],axis=1,inplace=True)\n",
    "dataset = pd.concat([dataset,sex,embark],axis=1)"
   ]
  },
  {
   "cell_type": "code",
   "execution_count": 10,
   "id": "db402a36",
   "metadata": {},
   "outputs": [],
   "source": [
    "dataset['Cabin'] = dataset['Cabin'].notnull().astype(\"int\")"
   ]
  },
  {
   "cell_type": "code",
   "execution_count": 11,
   "id": "d4e24e17",
   "metadata": {},
   "outputs": [
    {
     "name": "stdout",
     "output_type": "stream",
     "text": [
      "PassengerId      0\n",
      "Survived         0\n",
      "Pclass           0\n",
      "Age            177\n",
      "SibSp            0\n",
      "Parch            0\n",
      "Fare             0\n",
      "Cabin            0\n",
      "male             0\n",
      "C                0\n",
      "Q                0\n",
      "S                0\n",
      "dtype: int64\n"
     ]
    }
   ],
   "source": [
    "# check for missing values in the data\n",
    "print(dataset.isnull().sum())"
   ]
  },
  {
   "cell_type": "code",
   "execution_count": 12,
   "id": "9ecdd9aa",
   "metadata": {},
   "outputs": [
    {
     "data": {
      "text/html": [
       "<div>\n",
       "<style scoped>\n",
       "    .dataframe tbody tr th:only-of-type {\n",
       "        vertical-align: middle;\n",
       "    }\n",
       "\n",
       "    .dataframe tbody tr th {\n",
       "        vertical-align: top;\n",
       "    }\n",
       "\n",
       "    .dataframe thead th {\n",
       "        text-align: right;\n",
       "    }\n",
       "</style>\n",
       "<table border=\"1\" class=\"dataframe\">\n",
       "  <thead>\n",
       "    <tr style=\"text-align: right;\">\n",
       "      <th></th>\n",
       "      <th>PassengerId</th>\n",
       "      <th>Survived</th>\n",
       "      <th>Pclass</th>\n",
       "      <th>Age</th>\n",
       "      <th>SibSp</th>\n",
       "      <th>Parch</th>\n",
       "      <th>Fare</th>\n",
       "      <th>Cabin</th>\n",
       "      <th>male</th>\n",
       "      <th>C</th>\n",
       "      <th>Q</th>\n",
       "      <th>S</th>\n",
       "    </tr>\n",
       "  </thead>\n",
       "  <tbody>\n",
       "    <tr>\n",
       "      <th>0</th>\n",
       "      <td>1</td>\n",
       "      <td>0</td>\n",
       "      <td>3</td>\n",
       "      <td>22.0</td>\n",
       "      <td>1</td>\n",
       "      <td>0</td>\n",
       "      <td>7.2500</td>\n",
       "      <td>0</td>\n",
       "      <td>1</td>\n",
       "      <td>0</td>\n",
       "      <td>0</td>\n",
       "      <td>1</td>\n",
       "    </tr>\n",
       "    <tr>\n",
       "      <th>1</th>\n",
       "      <td>2</td>\n",
       "      <td>1</td>\n",
       "      <td>1</td>\n",
       "      <td>38.0</td>\n",
       "      <td>1</td>\n",
       "      <td>0</td>\n",
       "      <td>71.2833</td>\n",
       "      <td>1</td>\n",
       "      <td>0</td>\n",
       "      <td>1</td>\n",
       "      <td>0</td>\n",
       "      <td>0</td>\n",
       "    </tr>\n",
       "    <tr>\n",
       "      <th>2</th>\n",
       "      <td>3</td>\n",
       "      <td>1</td>\n",
       "      <td>3</td>\n",
       "      <td>26.0</td>\n",
       "      <td>0</td>\n",
       "      <td>0</td>\n",
       "      <td>7.9250</td>\n",
       "      <td>0</td>\n",
       "      <td>0</td>\n",
       "      <td>0</td>\n",
       "      <td>0</td>\n",
       "      <td>1</td>\n",
       "    </tr>\n",
       "    <tr>\n",
       "      <th>3</th>\n",
       "      <td>4</td>\n",
       "      <td>1</td>\n",
       "      <td>1</td>\n",
       "      <td>35.0</td>\n",
       "      <td>1</td>\n",
       "      <td>0</td>\n",
       "      <td>53.1000</td>\n",
       "      <td>1</td>\n",
       "      <td>0</td>\n",
       "      <td>0</td>\n",
       "      <td>0</td>\n",
       "      <td>1</td>\n",
       "    </tr>\n",
       "    <tr>\n",
       "      <th>4</th>\n",
       "      <td>5</td>\n",
       "      <td>0</td>\n",
       "      <td>3</td>\n",
       "      <td>35.0</td>\n",
       "      <td>0</td>\n",
       "      <td>0</td>\n",
       "      <td>8.0500</td>\n",
       "      <td>0</td>\n",
       "      <td>1</td>\n",
       "      <td>0</td>\n",
       "      <td>0</td>\n",
       "      <td>1</td>\n",
       "    </tr>\n",
       "    <tr>\n",
       "      <th>...</th>\n",
       "      <td>...</td>\n",
       "      <td>...</td>\n",
       "      <td>...</td>\n",
       "      <td>...</td>\n",
       "      <td>...</td>\n",
       "      <td>...</td>\n",
       "      <td>...</td>\n",
       "      <td>...</td>\n",
       "      <td>...</td>\n",
       "      <td>...</td>\n",
       "      <td>...</td>\n",
       "      <td>...</td>\n",
       "    </tr>\n",
       "    <tr>\n",
       "      <th>886</th>\n",
       "      <td>887</td>\n",
       "      <td>0</td>\n",
       "      <td>2</td>\n",
       "      <td>27.0</td>\n",
       "      <td>0</td>\n",
       "      <td>0</td>\n",
       "      <td>13.0000</td>\n",
       "      <td>0</td>\n",
       "      <td>1</td>\n",
       "      <td>0</td>\n",
       "      <td>0</td>\n",
       "      <td>1</td>\n",
       "    </tr>\n",
       "    <tr>\n",
       "      <th>887</th>\n",
       "      <td>888</td>\n",
       "      <td>1</td>\n",
       "      <td>1</td>\n",
       "      <td>19.0</td>\n",
       "      <td>0</td>\n",
       "      <td>0</td>\n",
       "      <td>30.0000</td>\n",
       "      <td>1</td>\n",
       "      <td>0</td>\n",
       "      <td>0</td>\n",
       "      <td>0</td>\n",
       "      <td>1</td>\n",
       "    </tr>\n",
       "    <tr>\n",
       "      <th>888</th>\n",
       "      <td>889</td>\n",
       "      <td>0</td>\n",
       "      <td>3</td>\n",
       "      <td>100.0</td>\n",
       "      <td>1</td>\n",
       "      <td>2</td>\n",
       "      <td>23.4500</td>\n",
       "      <td>0</td>\n",
       "      <td>0</td>\n",
       "      <td>0</td>\n",
       "      <td>0</td>\n",
       "      <td>1</td>\n",
       "    </tr>\n",
       "    <tr>\n",
       "      <th>889</th>\n",
       "      <td>890</td>\n",
       "      <td>1</td>\n",
       "      <td>1</td>\n",
       "      <td>26.0</td>\n",
       "      <td>0</td>\n",
       "      <td>0</td>\n",
       "      <td>30.0000</td>\n",
       "      <td>1</td>\n",
       "      <td>1</td>\n",
       "      <td>1</td>\n",
       "      <td>0</td>\n",
       "      <td>0</td>\n",
       "    </tr>\n",
       "    <tr>\n",
       "      <th>890</th>\n",
       "      <td>891</td>\n",
       "      <td>0</td>\n",
       "      <td>3</td>\n",
       "      <td>32.0</td>\n",
       "      <td>0</td>\n",
       "      <td>0</td>\n",
       "      <td>7.7500</td>\n",
       "      <td>0</td>\n",
       "      <td>1</td>\n",
       "      <td>0</td>\n",
       "      <td>1</td>\n",
       "      <td>0</td>\n",
       "    </tr>\n",
       "  </tbody>\n",
       "</table>\n",
       "<p>891 rows × 12 columns</p>\n",
       "</div>"
      ],
      "text/plain": [
       "     PassengerId  Survived  Pclass    Age  SibSp  Parch     Fare  Cabin  male  \\\n",
       "0              1         0       3   22.0      1      0   7.2500      0     1   \n",
       "1              2         1       1   38.0      1      0  71.2833      1     0   \n",
       "2              3         1       3   26.0      0      0   7.9250      0     0   \n",
       "3              4         1       1   35.0      1      0  53.1000      1     0   \n",
       "4              5         0       3   35.0      0      0   8.0500      0     1   \n",
       "..           ...       ...     ...    ...    ...    ...      ...    ...   ...   \n",
       "886          887         0       2   27.0      0      0  13.0000      0     1   \n",
       "887          888         1       1   19.0      0      0  30.0000      1     0   \n",
       "888          889         0       3  100.0      1      2  23.4500      0     0   \n",
       "889          890         1       1   26.0      0      0  30.0000      1     1   \n",
       "890          891         0       3   32.0      0      0   7.7500      0     1   \n",
       "\n",
       "     C  Q  S  \n",
       "0    0  0  1  \n",
       "1    1  0  0  \n",
       "2    0  0  1  \n",
       "3    0  0  1  \n",
       "4    0  0  1  \n",
       "..  .. .. ..  \n",
       "886  0  0  1  \n",
       "887  0  0  1  \n",
       "888  0  0  1  \n",
       "889  1  0  0  \n",
       "890  0  1  0  \n",
       "\n",
       "[891 rows x 12 columns]"
      ]
     },
     "execution_count": 12,
     "metadata": {},
     "output_type": "execute_result"
    }
   ],
   "source": [
    "# fill missing age values as 100 \n",
    "dataset['Age'] = dataset['Age'].fillna(100)\n",
    "dataset"
   ]
  },
  {
   "cell_type": "code",
   "execution_count": 13,
   "id": "b1607f42",
   "metadata": {},
   "outputs": [],
   "source": [
    "dataset = dataset.reindex(columns=['PassengerId', 'Pclass', 'Age', 'SibSp', 'Parch', 'Fare',\n",
    "       'Cabin', 'male', 'C', 'Q', 'S', 'Survived'])"
   ]
  },
  {
   "cell_type": "code",
   "execution_count": 14,
   "id": "f1dca282",
   "metadata": {},
   "outputs": [],
   "source": [
    "X = dataset.drop(['Survived'], axis = 1) # the full dataframe except for the last column\n",
    "y = dataset['Survived'] # target value what we we are trying to learn"
   ]
  },
  {
   "cell_type": "code",
   "execution_count": 15,
   "id": "bde6e423",
   "metadata": {},
   "outputs": [
    {
     "data": {
      "text/plain": [
       "0      0\n",
       "1      1\n",
       "2      1\n",
       "3      1\n",
       "4      0\n",
       "      ..\n",
       "886    0\n",
       "887    1\n",
       "888    0\n",
       "889    1\n",
       "890    0\n",
       "Name: Survived, Length: 891, dtype: int64"
      ]
     },
     "execution_count": 15,
     "metadata": {},
     "output_type": "execute_result"
    }
   ],
   "source": [
    "y = dataset[\"Survived\"]\n",
    "y # print"
   ]
  },
  {
   "cell_type": "code",
   "execution_count": 16,
   "id": "d841e298",
   "metadata": {},
   "outputs": [],
   "source": [
    "X_train, X_test, y_train, y_test = train_test_split(X,y,test_size = 0.3, random_state = 42)"
   ]
  },
  {
   "cell_type": "markdown",
   "id": "e9fb65f1",
   "metadata": {},
   "source": [
    "<h1 align=\"center\">\n",
    "    <span style = 'color:DodgerBlue'>\n",
    "        ⎽⎼⎻⎺⎺⎻⎼⎽⎽⎼⎻⎺⎺⎻⎼⎽⎽⎼⎻⎺⎺⎻⎼⎽⎽⎼⎻⎺⎺⎻⎼⎽⎽⎼⎻⎺⎺⎻⎼⎽⎽⎼⎻⎺⎺⎻⎼⎽⎽⎼⎻⎺⎺⎻⎼⎽⎽⎼⎻⎺⎺⎻⎼⎽\n",
    "    </span>\n",
    "</h1>"
   ]
  },
  {
   "cell_type": "markdown",
   "id": "66a10fa7",
   "metadata": {},
   "source": [
    "<h1 align=\"center\">\n",
    "    <span style='color:DodgerBlue'> \n",
    "        <span style='background: PaleTurquoise'>\n",
    "            𝘾𝙍𝙀𝘼𝙏𝙄𝙉𝙂 𝘼𝙉 𝘼𝘾𝘾𝙐𝙍𝘼𝙏𝙀 𝙈𝙊𝘿𝙀𝙇\n",
    "        </span>\n",
    "    </span>\n",
    "</h1>"
   ]
  },
  {
   "cell_type": "code",
   "execution_count": 17,
   "id": "4fb77084",
   "metadata": {},
   "outputs": [],
   "source": [
    "# 1. Logistic Regression Algorithm\n",
    "# 2. Decision Tree Algorithm\n",
    "# 3. Support Vector Machine Algorithm"
   ]
  },
  {
   "cell_type": "raw",
   "id": "88a413e8",
   "metadata": {},
   "source": [
    " __            _     _   _        _____                         _         \n",
    "|  |   ___ ___|_|___| |_|_|___   | __  |___ ___ ___ ___ ___ ___|_|___ ___ \n",
    "|  |__| . | . | |_ -|  _| |  _|  |    -| -_| . |  _| -_|_ -|_ -| | . |   |\n",
    "|_____|___|_  |_|___|_| |_|___|  |__|__|___|_  |_| |___|___|___|_|___|_|_|\n",
    "          |___|                            |___|                          "
   ]
  },
  {
   "cell_type": "markdown",
   "id": "61ece772",
   "metadata": {},
   "source": [
    "EC: Below, we initialize logistic regression. Then, we trained it with the training data. After, we predicted the y values from the x test. Finally, we compared the predicted values to the actual values."
   ]
  },
  {
   "cell_type": "code",
   "execution_count": 18,
   "id": "d181dbdc",
   "metadata": {},
   "outputs": [
    {
     "name": "stdout",
     "output_type": "stream",
     "text": [
      "Accuracy Score -> 0.8059701492537313\n"
     ]
    }
   ],
   "source": [
    "logitModel = LogisticRegression(max_iter = 4000).fit(X_train, y_train) # create logistic regression model\n",
    "y_pred = logitModel.predict(X_test) # predict test set\n",
    "\n",
    "accuracy = accuracy_score(y_test, y_pred) # calculate accuracy\n",
    "\n",
    "# print accuracy\n",
    "print(\"Accuracy Score -> {}\".format(accuracy))"
   ]
  },
  {
   "cell_type": "code",
   "execution_count": 19,
   "id": "0782fcdb",
   "metadata": {},
   "outputs": [
    {
     "name": "stdout",
     "output_type": "stream",
     "text": [
      "              precision    recall  f1-score   support\n",
      "\n",
      "           0       0.82      0.86      0.84       157\n",
      "           1       0.79      0.73      0.76       111\n",
      "\n",
      "    accuracy                           0.81       268\n",
      "   macro avg       0.80      0.79      0.80       268\n",
      "weighted avg       0.81      0.81      0.80       268\n",
      "\n",
      "ROC AUC Score is 0.794801170597349\n"
     ]
    }
   ],
   "source": [
    "y_pred_LR = logitModel.predict(X_test)\n",
    "print(classification_report(y_test, y_pred_LR))\n",
    "print(\"ROC AUC Score is {}\".format(roc_auc_score(y_test, y_pred_LR)))"
   ]
  },
  {
   "cell_type": "code",
   "execution_count": 20,
   "id": "d2345130",
   "metadata": {},
   "outputs": [
    {
     "name": "stdout",
     "output_type": "stream",
     "text": [
      "Cross Validation results:\n",
      "Logistic reg average accuracy is 0.793\n"
     ]
    }
   ],
   "source": [
    "scores_accuracy = cross_val_score(logitModel, X, y, cv = 9, scoring = 'accuracy')\n",
    "print('Cross Validation results:') \n",
    "print(\"Logistic reg average accuracy is %2.3f\" % scores_accuracy.mean())"
   ]
  },
  {
   "cell_type": "code",
   "execution_count": 21,
   "id": "ffbc5061",
   "metadata": {},
   "outputs": [
    {
     "name": "stdout",
     "output_type": "stream",
     "text": [
      "Confusion Matrix for Logistic Regression\n"
     ]
    },
    {
     "data": {
      "image/png": "[encoded data removed]",
      "text/plain": [
       "<Figure size 432x288 with 2 Axes>"
      ]
     },
     "metadata": {
      "needs_background": "light"
     },
     "output_type": "display_data"
    }
   ],
   "source": [
    "print(\"Confusion Matrix for Logistic Regression\")\n",
    "displr = plot_confusion_matrix(logitModel, X_test, y_test,cmap=plt.cm.Blues, values_format='d')"
   ]
  },
  {
   "cell_type": "raw",
   "id": "35fc626b",
   "metadata": {},
   "source": [
    " ____          _     _            _____            \n",
    "|    \\ ___ ___|_|___|_|___ ___   |_   _|__ ___ ___ \n",
    "|  |  | -_|  _| |_ -| | . |   |    | ||  _| -_| -_|\n",
    "|____/|___|___|_|___|_|___|_|_|    |_||_| |___|___|                                             "
   ]
  },
  {
   "cell_type": "markdown",
   "id": "a341d624",
   "metadata": {},
   "source": [
    "EC: Below, we initialize Decision Tree with a max depth of 5. Then, we trained it with the training data. After, we predicted the y values from the x test. Finally, we compared the predicted values to the actual values. "
   ]
  },
  {
   "cell_type": "code",
   "execution_count": 22,
   "id": "44baa537",
   "metadata": {},
   "outputs": [
    {
     "name": "stdout",
     "output_type": "stream",
     "text": [
      "Accuracy Score -> 0.7723880597014925\n"
     ]
    }
   ],
   "source": [
    "dta = DecisionTreeClassifier(max_depth = 5).fit(X_train, y_train) # create decision tree model\n",
    "y_pred = dta.predict(X_test) # predict test set\n",
    "\n",
    "accuracy = accuracy_score(y_test, y_pred) # calculate accuracy\n",
    "\n",
    "# print accuracy\n",
    "print(\"Accuracy Score -> {}\".format(accuracy))"
   ]
  },
  {
   "cell_type": "code",
   "execution_count": 23,
   "id": "6325caaa",
   "metadata": {},
   "outputs": [
    {
     "name": "stdout",
     "output_type": "stream",
     "text": [
      "              precision    recall  f1-score   support\n",
      "\n",
      "           0       0.86      0.78      0.82       174\n",
      "           1       0.65      0.77      0.70        94\n",
      "\n",
      "    accuracy                           0.77       268\n",
      "   macro avg       0.75      0.77      0.76       268\n",
      "weighted avg       0.79      0.77      0.78       268\n",
      "\n"
     ]
    }
   ],
   "source": [
    "print(classification_report(y_pred,y_test))"
   ]
  },
  {
   "cell_type": "code",
   "execution_count": 24,
   "id": "73c286a1",
   "metadata": {},
   "outputs": [
    {
     "name": "stdout",
     "output_type": "stream",
     "text": [
      "Confusion Matrix for Decision Tree Classifier\n"
     ]
    },
    {
     "data": {
      "image/png": "[encoded data removed]",
      "text/plain": [
       "<Figure size 432x288 with 2 Axes>"
      ]
     },
     "metadata": {
      "needs_background": "light"
     },
     "output_type": "display_data"
    }
   ],
   "source": [
    "print(\"Confusion Matrix for Decision Tree Classifier\")\n",
    "decision_confusion = plot_confusion_matrix(dta, X_test, y_test,cmap=plt.cm.Blues,values_format='d')"
   ]
  },
  {
   "cell_type": "code",
   "execution_count": 25,
   "id": "8f8fa667",
   "metadata": {},
   "outputs": [
    {
     "data": {
      "image/png": "[encoded data removed]",
      "text/plain": [
       "<Figure size 1800x1440 with 1 Axes>"
      ]
     },
     "metadata": {
      "needs_background": "light"
     },
     "output_type": "display_data"
    }
   ],
   "source": [
    "fig = plt.figure(figsize=(25,20))\n",
    "_ = tree.plot_tree(dta,\n",
    "                   feature_names = ['PassengerId', 'Pclass', 'Age', 'SibSp', 'Parch', 'Fare',\n",
    "       'Cabin', 'male', 'C', 'Q', 'S'],\n",
    "                   max_depth = 3,\n",
    "                   filled=True)"
   ]
  },
  {
   "cell_type": "code",
   "execution_count": 26,
   "id": "b84a31a1",
   "metadata": {},
   "outputs": [
    {
     "name": "stdout",
     "output_type": "stream",
     "text": [
      "|--- feature_7 <= 0.50\n",
      "|   |--- feature_1 <= 2.50\n",
      "|   |   |--- feature_2 <= 2.50\n",
      "|   |   |   |--- feature_0 <= 414.50\n",
      "|   |   |   |   |--- class: 0\n",
      "|   |   |   |--- feature_0 >  414.50\n",
      "|   |   |   |   |--- class: 1\n",
      "|   |   |--- feature_2 >  2.50\n",
      "|   |   |   |--- feature_0 <= 184.50\n",
      "|   |   |   |   |--- feature_0 <= 172.50\n",
      "|   |   |   |   |   |--- class: 1\n",
      "|   |   |   |   |--- feature_0 >  172.50\n",
      "|   |   |   |   |   |--- class: 0\n",
      "|   |   |   |--- feature_0 >  184.50\n",
      "|   |   |   |   |--- feature_5 <= 149.04\n",
      "|   |   |   |   |   |--- class: 1\n",
      "|   |   |   |   |--- feature_5 >  149.04\n",
      "|   |   |   |   |   |--- class: 1\n",
      "|   |--- feature_1 >  2.50\n",
      "|   |   |--- feature_5 <= 23.35\n",
      "|   |   |   |--- feature_10 <= 0.50\n",
      "|   |   |   |   |--- feature_5 <= 15.37\n",
      "|   |   |   |   |   |--- class: 1\n",
      "|   |   |   |   |--- feature_5 >  15.37\n",
      "|   |   |   |   |   |--- class: 1\n",
      "|   |   |   |--- feature_10 >  0.50\n",
      "|   |   |   |   |--- feature_5 <= 7.70\n",
      "|   |   |   |   |   |--- class: 1\n",
      "|   |   |   |   |--- feature_5 >  7.70\n",
      "|   |   |   |   |   |--- class: 0\n",
      "|   |   |--- feature_5 >  23.35\n",
      "|   |   |   |--- feature_2 <= 7.00\n",
      "|   |   |   |   |--- feature_2 <= 3.50\n",
      "|   |   |   |   |   |--- class: 0\n",
      "|   |   |   |   |--- feature_2 >  3.50\n",
      "|   |   |   |   |   |--- class: 1\n",
      "|   |   |   |--- feature_2 >  7.00\n",
      "|   |   |   |   |--- class: 0\n",
      "|--- feature_7 >  0.50\n",
      "|   |--- feature_2 <= 6.50\n",
      "|   |   |--- feature_3 <= 3.00\n",
      "|   |   |   |--- class: 1\n",
      "|   |   |--- feature_3 >  3.00\n",
      "|   |   |   |--- feature_4 <= 1.50\n",
      "|   |   |   |   |--- class: 0\n",
      "|   |   |   |--- feature_4 >  1.50\n",
      "|   |   |   |   |--- feature_0 <= 324.50\n",
      "|   |   |   |   |   |--- class: 1\n",
      "|   |   |   |   |--- feature_0 >  324.50\n",
      "|   |   |   |   |   |--- class: 0\n",
      "|   |--- feature_2 >  6.50\n",
      "|   |   |--- feature_6 <= 0.50\n",
      "|   |   |   |--- feature_0 <= 623.50\n",
      "|   |   |   |   |--- feature_0 <= 621.50\n",
      "|   |   |   |   |   |--- class: 0\n",
      "|   |   |   |   |--- feature_0 >  621.50\n",
      "|   |   |   |   |   |--- class: 1\n",
      "|   |   |   |--- feature_0 >  623.50\n",
      "|   |   |   |   |--- feature_5 <= 51.70\n",
      "|   |   |   |   |   |--- class: 0\n",
      "|   |   |   |   |--- feature_5 >  51.70\n",
      "|   |   |   |   |   |--- class: 0\n",
      "|   |   |--- feature_6 >  0.50\n",
      "|   |   |   |--- feature_8 <= 0.50\n",
      "|   |   |   |   |--- feature_5 <= 30.25\n",
      "|   |   |   |   |   |--- class: 0\n",
      "|   |   |   |   |--- feature_5 >  30.25\n",
      "|   |   |   |   |   |--- class: 0\n",
      "|   |   |   |--- feature_8 >  0.50\n",
      "|   |   |   |   |--- feature_5 <= 30.10\n",
      "|   |   |   |   |   |--- class: 0\n",
      "|   |   |   |   |--- feature_5 >  30.10\n",
      "|   |   |   |   |   |--- class: 1\n",
      "\n"
     ]
    }
   ],
   "source": [
    "text_representation = tree.export_text(dta)\n",
    "print(text_representation)"
   ]
  },
  {
   "cell_type": "raw",
   "id": "5ee8b4de",
   "metadata": {},
   "source": [
    " _____ _____ _____ \n",
    "|   __|  |  |     |\n",
    "|__   |  |  | | | |\n",
    "|_____|\\___/|_|_|_|"
   ]
  },
  {
   "cell_type": "markdown",
   "id": "bf1ce9de",
   "metadata": {},
   "source": [
    "EC: Below, we initialize SVM. Then, we trained it with the training data. After, we predicted the y values from the x test. Final, we compared the predicted values to the actual values."
   ]
  },
  {
   "cell_type": "code",
   "execution_count": 27,
   "id": "9d36055a",
   "metadata": {},
   "outputs": [
    {
     "name": "stdout",
     "output_type": "stream",
     "text": [
      "Accuracy Score -> 0.7947761194029851\n"
     ]
    }
   ],
   "source": [
    "svcModel = SVC(kernel = 'linear').fit(X_train, y_train) # create svm model\n",
    "y_pred = svcModel.predict(X_test) # predict test set\n",
    "\n",
    "accuracy = accuracy_score(y_test, y_pred) # calculate accuracy\n",
    "\n",
    "# print accuracy\n",
    "print(\"Accuracy Score -> {}\".format(accuracy))"
   ]
  },
  {
   "cell_type": "code",
   "execution_count": 28,
   "id": "52b98363",
   "metadata": {
    "scrolled": true
   },
   "outputs": [
    {
     "name": "stdout",
     "output_type": "stream",
     "text": [
      "              precision    recall  f1-score   support\n",
      "\n",
      "           0       0.80      0.86      0.83       157\n",
      "           1       0.78      0.70      0.74       111\n",
      "\n",
      "    accuracy                           0.79       268\n",
      "   macro avg       0.79      0.78      0.79       268\n",
      "weighted avg       0.79      0.79      0.79       268\n",
      "\n"
     ]
    }
   ],
   "source": [
    "print(classification_report(y_test, y_pred))"
   ]
  },
  {
   "cell_type": "code",
   "execution_count": 29,
   "id": "2e343e35",
   "metadata": {},
   "outputs": [
    {
     "name": "stdout",
     "output_type": "stream",
     "text": [
      "Confusion Matrix for Support Vector Machines\n"
     ]
    },
    {
     "data": {
      "image/png": "[encoded data removed]",
      "text/plain": [
       "<Figure size 432x288 with 2 Axes>"
      ]
     },
     "metadata": {
      "needs_background": "light"
     },
     "output_type": "display_data"
    }
   ],
   "source": [
    "print(\"Confusion Matrix for Support Vector Machines\")\n",
    "support_confusion = plot_confusion_matrix(svcModel, X_test, y_test ,cmap=plt.cm.Blues , values_format='d')"
   ]
  },
  {
   "cell_type": "markdown",
   "id": "0f8a8a26",
   "metadata": {},
   "source": [
    "<h1 align=\"center\">\n",
    "    <span style = 'color:DodgerBlue'>\n",
    "        ⎽⎼⎻⎺⎺⎻⎼⎽⎽⎼⎻⎺⎺⎻⎼⎽⎽⎼⎻⎺⎺⎻⎼⎽⎽⎼⎻⎺⎺⎻⎼⎽⎽⎼⎻⎺⎺⎻⎼⎽⎽⎼⎻⎺⎺⎻⎼⎽⎽⎼⎻⎺⎺⎻⎼⎽⎽⎼⎻⎺⎺⎻⎼⎽\n",
    "    </span>\n",
    "</h1>"
   ]
  },
  {
   "cell_type": "markdown",
   "id": "c3d24201",
   "metadata": {},
   "source": [
    "<h1 align=\"center\">\n",
    "    <span style='color:DodgerBlue'>\n",
    "        <span style='background: PaleTurquoise'> \n",
    "            𝘾𝘼𝙉 𝙔𝙊𝙐 𝙄𝙈𝙋𝙍𝙊𝙑𝙀 𝙏𝙃𝙀 𝙈𝙊𝘿𝙀𝙇 ?\n",
    "        </span>\n",
    "    </span>\n",
    "</h1>"
   ]
  },
  {
   "cell_type": "code",
   "execution_count": 30,
   "id": "2406e46a",
   "metadata": {},
   "outputs": [],
   "source": [
    "# use regularization and cross validation to improve the accuracy of the model  "
   ]
  },
  {
   "cell_type": "code",
   "execution_count": 31,
   "id": "b0333e78",
   "metadata": {
    "scrolled": true
   },
   "outputs": [
    {
     "name": "stdout",
     "output_type": "stream",
     "text": [
      "Alpha: 0.25 \t Cross Validation Score: 34.68269892874255\n",
      "Alpha: 0.5 \t Cross Validation Score: 34.68465267778499\n",
      "Alpha: 0.75 \t Cross Validation Score: 34.68633304990837\n",
      "Alpha: 1.0 \t Cross Validation Score: 34.687812761171784\n",
      "Alpha: 1.25 \t Cross Validation Score: 34.68912532480757\n",
      "Alpha: 1.5 \t Cross Validation Score: 34.69028888500761\n",
      "Alpha: 1.75 \t Cross Validation Score: 34.69131440754004\n",
      "Alpha: 2.0 \t Cross Validation Score: 34.69220910781111\n",
      "Alpha: 2.25 \t Cross Validation Score: 34.69297807661083\n"
     ]
    }
   ],
   "source": [
    "# ridge regression\n",
    "cvsRidge = []\n",
    "\n",
    "alpha = []\n",
    "\n",
    "for i in range(1,10): # loop through different alpha values\n",
    "    ridge = Ridge(alpha = i * 0.25) # create the model\n",
    "    ridge.fit(X_train, y_train) # fit the model\n",
    "    scores = cross_val_score(ridge, X, y, cv = 10) # 10-fold cross validation\n",
    "    cvsAvg = np.mean(scores)*100 # calculate average\n",
    "    cvsRidge.append(cvsAvg) # append to list\n",
    "    alpha.append(i * 0.25) # append to list\n",
    "\n",
    "# print different cross-validation scores\n",
    "for i in range(len(cvsRidge)):\n",
    "    print(\"Alpha: {} \\t Cross Validation Score: {}\".format(alpha[i], cvsRidge[i]))"
   ]
  },
  {
   "cell_type": "code",
   "execution_count": 32,
   "id": "dcd13dcb",
   "metadata": {},
   "outputs": [
    {
     "name": "stdout",
     "output_type": "stream",
     "text": [
      "Lambda: 0.25 \t Cross Validation Score: 3.1531066248803286\n",
      "Lambda: 0.5 \t Cross Validation Score: 3.111960262575715\n",
      "Lambda: 0.75 \t Cross Validation Score: 2.990267466928418\n",
      "Lambda: 1.0 \t Cross Validation Score: 2.7897796069512446\n",
      "Lambda: 1.25 \t Cross Validation Score: 2.524249298357232\n",
      "Lambda: 1.5 \t Cross Validation Score: 2.3976067691182212\n",
      "Lambda: 1.75 \t Cross Validation Score: 2.327388251178527\n",
      "Lambda: 2.0 \t Cross Validation Score: 2.188691440496089\n",
      "Lambda: 2.25 \t Cross Validation Score: 2.017636100603999\n"
     ]
    }
   ],
   "source": [
    "# lasso regression\n",
    "cvsLasso = []\n",
    "\n",
    "Lambda = []\n",
    "\n",
    "for i in range(1,10): # loop through different lambda values\n",
    "    lasso = Lasso(alpha = i * 0.25) # create lasso model\n",
    "    lasso.fit(X_train, y_train) # fit model\n",
    "    scores = cross_val_score(lasso, X, y, cv = 10) # 10-fold cross validation\n",
    "    cvsAvg = np.mean(scores)*100 # calculate average\n",
    "    cvsLasso.append(cvsAvg) # append to list\n",
    "    Lambda.append(i * 0.25) # append to list\n",
    "\n",
    "# print different cross-validation scores\n",
    "for i in range(len(cvsLasso)):\n",
    "    print(\"Lambda: {} \\t Cross Validation Score: {}\".format(Lambda[i], cvsLasso[i]))"
   ]
  },
  {
   "cell_type": "markdown",
   "id": "5cb09c39",
   "metadata": {},
   "source": [
    "<h1 align=\"center\">\n",
    "    <span style = 'color:DodgerBlue'>\n",
    "        ⎽⎼⎻⎺⎺⎻⎼⎽⎽⎼⎻⎺⎺⎻⎼⎽⎽⎼⎻⎺⎺⎻⎼⎽⎽⎼⎻⎺⎺⎻⎼⎽⎽⎼⎻⎺⎺⎻⎼⎽⎽⎼⎻⎺⎺⎻⎼⎽⎽⎼⎻⎺⎺⎻⎼⎽⎽⎼⎻⎺⎺⎻⎼⎽\n",
    "    </span>\n",
    "</h1>"
   ]
  },
  {
   "cell_type": "markdown",
   "id": "f3eea601",
   "metadata": {},
   "source": [
    "<h1 align=\"center\">\n",
    "    <span style='color:DodgerBlue'> \n",
    "        <span style='background: PaleTurquoise'>\n",
    "            𝘾𝙊𝘿𝙀 𝘼𝙉𝘼𝙇𝙔𝙎𝙄𝙎\n",
    "        </span>\n",
    "    </span>\n",
    "</h1>"
   ]
  },
  {
   "cell_type": "markdown",
   "id": "6840f25e",
   "metadata": {},
   "source": [
    "<h3>\n",
    "    <span style='color:DodgerBlue'>\n",
    "        𝙒𝙝𝙮 𝙬𝙚 𝙘𝙝𝙤𝙨𝙚 𝙩𝙝𝙚𝙨𝙚 𝙢𝙤𝙙𝙚𝙡𝙨 :\n",
    "    </span> \n",
    "</h3> \n",
    "<br/>\n",
    "𝘚𝘪𝘯𝘤𝘦 𝘵𝘩𝘦 𝘵𝘢𝘳𝘨𝘦𝘵 𝘷𝘢𝘭𝘶𝘦 (𝘴𝘶𝘳𝘷𝘪𝘷𝘦𝘥 𝘰𝘳 𝘯𝘰𝘵 𝘴𝘶𝘳𝘷𝘪𝘷𝘦𝘥) 𝘸𝘢𝘴 𝘢 𝘤𝘢𝘵𝘦𝘨𝘰𝘳𝘪𝘤𝘢𝘭 𝘷𝘢𝘭𝘶𝘦, 𝘸𝘦 𝘤𝘩𝘰𝘴𝘦 𝘭𝘰𝘨𝘪𝘴𝘵𝘪𝘤 𝘳𝘦𝘨𝘳𝘦𝘴𝘴𝘪𝘰𝘯 𝘢𝘯𝘥 𝘚𝘝𝘔. 𝘛𝘩𝘦𝘺'𝘳𝘦 𝘱𝘦𝘳𝘧𝘦𝘤𝘵 𝘮𝘰𝘥𝘦𝘭𝘴 𝘧𝘰𝘳 𝘦𝘹𝘢𝘮𝘪𝘯𝘪𝘯𝘨 𝘵𝘩𝘦 𝘳𝘦𝘭𝘢𝘵𝘪𝘰𝘯𝘴𝘩𝘪𝘱 𝘣𝘦𝘵𝘸𝘦𝘦𝘯 𝘢 𝘥𝘦𝘱𝘦𝘯𝘥𝘦𝘯𝘵 𝘷𝘢𝘳𝘪𝘢𝘣𝘭𝘦 𝘢𝘯𝘥 𝘰𝘵𝘩𝘦𝘳 𝘪𝘯𝘥𝘦𝘱𝘦𝘯𝘥𝘦𝘯𝘵 𝘷𝘢𝘳𝘪𝘢𝘣𝘭𝘦𝘴, 𝘱𝘦𝘳𝘧𝘦𝘤𝘵 𝘧𝘰𝘳 𝘵𝘩𝘪𝘴 𝘥𝘢𝘵𝘢𝘴𝘦𝘵. 𝘕𝘦𝘹𝘵, 𝘸𝘦 𝘤𝘩𝘰𝘴𝘦 𝘵𝘩𝘦 𝘱𝘰𝘱𝘶𝘭𝘢𝘳 𝘥𝘦𝘤𝘪𝘴𝘪𝘰𝘯 𝘵𝘳𝘦𝘦 𝘮𝘰𝘥𝘦𝘭 𝘣𝘦𝘤𝘢𝘶𝘴𝘦 𝘪𝘵'𝘴 𝘢𝘭𝘴𝘰 𝘶𝘴𝘦𝘥 𝘧𝘰𝘳 𝘤𝘭𝘢𝘴𝘴𝘪𝘧𝘪𝘤𝘢𝘵𝘪𝘰𝘯 𝘢𝘯𝘥 𝘩𝘦𝘭𝘱𝘦𝘥 𝘸𝘪𝘵𝘩 𝘷𝘪𝘴𝘶𝘢𝘭𝘭𝘺 𝘶𝘯𝘥𝘦𝘳𝘴𝘵𝘢𝘯𝘥𝘪𝘯𝘨 𝘵𝘩𝘦 𝘪𝘯𝘧𝘰𝘳𝘮𝘢𝘵𝘪𝘰𝘯."
   ]
  },
  {
   "cell_type": "markdown",
   "id": "b4456061",
   "metadata": {},
   "source": [
    "<h3>\n",
    "    <span style='color:DodgerBlue'>\n",
    "        𝙒𝙝𝙞𝙘𝙝 𝙢𝙤𝙙𝙚𝙡𝙨 𝙬𝙚𝙧𝙚 𝙢𝙤𝙧𝙚 𝙖𝙘𝙘𝙪𝙧𝙖𝙩𝙚 ? :\n",
    "    </span>\n",
    "</h3>\n",
    "<br/>\n",
    "𝘐𝘯 𝘵𝘦𝘳𝘮𝘴 𝘰𝘧 𝘱𝘭𝘢𝘪𝘯 𝘢𝘤𝘤𝘶𝘳𝘢𝘤𝘺 𝘴𝘤𝘰𝘳𝘦, 𝘵𝘩𝘦 𝘭𝘰𝘨𝘪𝘴𝘵𝘪𝘤 𝘳𝘦𝘨𝘳𝘦𝘴𝘴𝘪𝘰𝘯 𝘸𝘢𝘴 𝘵𝘩𝘦 𝘮𝘰𝘴𝘵 𝘢𝘤𝘤𝘶𝘳𝘢𝘵𝘦, 𝘸𝘪𝘵𝘩 𝘢 𝘴𝘤𝘰𝘳𝘦 𝘰𝘧 0.81. 𝘛𝘩𝘦 𝘴𝘦𝘤𝘰𝘯𝘥 𝘸𝘢𝘴 𝘵𝘩𝘦 𝘚𝘝𝘔 𝘮𝘰𝘥𝘦𝘭 𝘸𝘪𝘵𝘩 𝘢 𝘴𝘤𝘰𝘳𝘦 𝘰𝘧 0.79, 𝘢𝘯𝘥 𝘭𝘢𝘴𝘵𝘭𝘺, 𝘵𝘩𝘦 𝘥𝘦𝘤𝘪𝘴𝘪𝘰𝘯 𝘵𝘳𝘦𝘦 𝘮𝘰𝘥𝘦𝘭 𝘸𝘪𝘵𝘩 𝘢 𝘴𝘤𝘰𝘳𝘦 𝘰𝘧 0.77. 𝘐𝘧 𝘸𝘦 𝘵𝘢𝘬𝘦 𝘢 𝘤𝘭𝘰𝘴𝘦𝘳 𝘭𝘰𝘰𝘬, 𝘸𝘦 𝘤𝘢𝘯 𝘴𝘦𝘦 𝘯𝘰𝘵 𝘰𝘯𝘭𝘺 𝘧𝘳𝘰𝘮 𝘵𝘩𝘦 𝘢𝘤𝘤𝘶𝘳𝘢𝘤𝘺 𝘴𝘤𝘰𝘳𝘦 𝘣𝘶𝘵 𝘢𝘭𝘴𝘰 𝘧𝘳𝘰𝘮 𝘵𝘩𝘦 𝘍1 𝘴𝘤𝘰𝘳𝘦 (𝘵𝘩𝘦 𝘸𝘦𝘪𝘨𝘩𝘵𝘦𝘥 𝘢𝘷𝘦𝘳𝘢𝘨𝘦 𝘰𝘧 𝘱𝘳𝘦𝘤𝘪𝘴𝘪𝘰𝘯 𝘢𝘯𝘥 𝘳𝘦𝘤𝘢𝘭𝘭 𝘨𝘳𝘦𝘢𝘵 𝘧𝘰𝘳 𝘶𝘯𝘦𝘷𝘦𝘯 𝘤𝘭𝘢𝘴𝘴 𝘥𝘪𝘴𝘵𝘳𝘪𝘣𝘶𝘵𝘪𝘰𝘯 𝘥𝘢𝘵𝘢𝘴𝘦𝘵𝘴) 𝘰𝘧 𝘣𝘰𝘵𝘩 𝘱𝘳𝘦𝘥𝘪𝘤𝘵𝘪𝘯𝘨 0 𝘢𝘯𝘥 1 𝘳𝘦𝘴𝘱𝘦𝘤𝘵𝘪𝘷𝘦𝘭𝘺 𝘵𝘩𝘢𝘵 𝘵𝘩𝘦 𝘷𝘢𝘭𝘶𝘦𝘴 𝘧𝘰𝘳 𝘭𝘰𝘨𝘪𝘴𝘵𝘪𝘤 𝘳𝘦𝘨𝘳𝘦𝘴𝘴𝘪𝘰𝘯 (0.84, 0.76) 𝘢𝘯𝘥 𝘚𝘝𝘔 (0.83,0.74) 𝘸𝘦𝘳𝘦 𝘵𝘩𝘦 𝘴𝘢𝘮𝘦. 𝘍𝘰𝘳 𝘵𝘩𝘦 𝘣𝘦𝘴𝘵 𝘳𝘦𝘴𝘶𝘭𝘵𝘴, 𝘪𝘧 𝘵𝘩𝘪𝘴 𝘥𝘢𝘵𝘢𝘴𝘦𝘵 𝘤𝘰𝘯𝘵𝘪𝘯𝘶𝘦𝘴 𝘵𝘰 𝘦𝘹𝘱𝘢𝘯𝘥, 𝘐 𝘸𝘰𝘶𝘭𝘥 𝘤𝘩𝘰𝘰𝘴𝘦 𝘵𝘩𝘦 𝘭𝘰𝘨𝘪𝘴𝘵𝘪𝘤 𝘳𝘦𝘨𝘳𝘦𝘴𝘴𝘪𝘰𝘯 𝘮𝘰𝘥𝘦𝘭 𝘳𝘪𝘨𝘩𝘵 𝘯𝘰𝘸. 𝘚𝘵𝘪𝘭𝘭, 𝘐 𝘸𝘰𝘶𝘭𝘥 𝘤𝘰𝘯𝘵𝘪𝘯𝘶𝘦 𝘵𝘩𝘦 𝘢𝘯𝘢𝘭𝘺𝘴𝘪𝘴 𝘰𝘧 𝘵𝘩𝘦 𝘚𝘝𝘔 𝘮𝘰𝘥𝘦𝘭 𝘢𝘴 𝘵𝘩𝘦 𝘳𝘦𝘴𝘶𝘭𝘵𝘴 𝘢𝘳𝘦 𝘢𝘭𝘮𝘰𝘴𝘵 𝘪𝘥𝘦𝘯𝘵𝘪𝘤𝘢𝘭.   "
   ]
  },
  {
   "cell_type": "markdown",
   "id": "2c614213",
   "metadata": {},
   "source": [
    "<h3 align=\"center\">𝗟𝗼𝗴𝗶𝘀𝘁𝗶𝗰 𝗥𝗲𝗴𝗿𝗲𝘀𝘀𝗶𝗼𝗻</h3>\n",
    "\n",
    "|     | precision | recall | f1-score | support |\n",
    "|---: |:---:      | :---:  | :---:    | :---:   |\n",
    "|0    |0.82       | 0.86   | 0.84     | 157     |\n",
    "|1    |0.79       | 0.73   | 0.76     | 111     |\n",
    "|accuracy|        |        | 0.81     | 268     |\n",
    "|macro avg| 0.80  | 0.79   | 0.80     | 268     |\n",
    "|weighted avg|0.81| 0.81   | 0.80     | 268     |"
   ]
  },
  {
   "cell_type": "markdown",
   "id": "9cb81c05",
   "metadata": {},
   "source": [
    "<h3 align=\"center\">𝗗𝗲𝗰𝗶𝘀𝗶𝗼𝗻 𝗧𝗿𝗲𝗲 𝗖𝗹𝗮𝘀𝘀𝗶𝗳𝗶𝗲𝗿</h3>\n",
    "\n",
    "|     | precision | recall | f1-score | support |\n",
    "|---: |:---:      | :---:  | :---:    | :---:   |\n",
    "|0    |0.86       | 0.78   | 0.82     | 174     |\n",
    "|1    |0.65       | 0.77   | 0.70     | 94      |\n",
    "|accuracy|        |        | 0.77     | 268     |\n",
    "|macro avg| 0.75  | 0.77   | 0.76     | 268     |\n",
    "|weighted avg|0.79| 0.77   | 0.78     | 268     |"
   ]
  },
  {
   "cell_type": "markdown",
   "id": "0a3c67b0",
   "metadata": {},
   "source": [
    "<h3 align=\"center\">𝗦𝗩𝗠</h3>\n",
    "\n",
    "|     | precision | recall | f1-score | support |\n",
    "|---: |:---:      | :---:  | :---:    | :---:   |\n",
    "|0    |0.80       | 0.86   | 0.83     | 157     |\n",
    "|1    |0.78       | 0.70   | 0.74     | 111     |\n",
    "|accuracy|        |        | 0.79     | 268     |\n",
    "|macro avg| 0.79  | 0.78   | 0.79     | 268     |\n",
    "|weighted avg|0.79| 0.79   | 0.79     | 268     |"
   ]
  },
  {
   "cell_type": "markdown",
   "id": "5e3c7c2a",
   "metadata": {},
   "source": [
    "<h3>\n",
    "    <span style='color:DodgerBlue'>\n",
    "        𝙃𝙤𝙬 𝙙𝙞𝙙 𝙬𝙚 𝙙𝙚𝙩𝙚𝙧𝙢𝙞𝙣𝙚 𝙖𝙘𝙘𝙪𝙧𝙖𝙘𝙮 ? : \n",
    "    </span>\n",
    "</h3>\n",
    "<br/>\n",
    "𝘞𝘦 𝘥𝘦𝘵𝘦𝘳𝘮𝘪𝘯𝘦𝘥 𝘢𝘤𝘤𝘶𝘳𝘢𝘤𝘺 𝘶𝘴𝘪𝘯𝘨 𝘵𝘩𝘦 𝘢𝘤𝘤𝘶𝘳𝘢𝘤𝘺_𝘴𝘤𝘰𝘳𝘦 𝘧𝘶𝘯𝘤𝘵𝘪𝘰𝘯, 𝘸𝘩𝘪𝘤𝘩 𝘤𝘰𝘮𝘱𝘢𝘳𝘦𝘴 𝘰𝘶𝘳 𝘵𝘦𝘴𝘵 𝘷𝘢𝘭𝘶𝘦𝘴 𝘸𝘪𝘵𝘩 𝘵𝘩𝘦 𝘱𝘳𝘦𝘥𝘪𝘤𝘵𝘦𝘥 𝘵𝘦𝘴𝘵 𝘷𝘢𝘭𝘶𝘦𝘴. 𝘐𝘵'𝘴 𝘦𝘲𝘶𝘢𝘭 𝘵𝘰 𝘵𝘩𝘦 𝘯𝘶𝘮𝘣𝘦𝘳 𝘰𝘧 𝘤𝘰𝘳𝘳𝘦𝘤𝘵 𝘱𝘳𝘦𝘥𝘪𝘤𝘵𝘪𝘰𝘯𝘴 𝘥𝘪𝘷𝘪𝘥𝘦𝘥 𝘣𝘺 𝘵𝘩𝘦 𝘯𝘶𝘮𝘣𝘦𝘳 𝘰𝘧 𝘢𝘭𝘭 𝘱𝘳𝘦𝘥𝘪𝘤𝘵𝘪𝘰𝘯𝘴. 𝘚𝘰 𝘪𝘧 𝘸𝘦 𝘥𝘪𝘷𝘦 𝘥𝘦𝘦𝘱𝘦𝘳 𝘶𝘴𝘪𝘯𝘨 𝘵𝘩𝘦 𝘤𝘰𝘯𝘧𝘶𝘴𝘪𝘰𝘯 𝘮𝘢𝘵𝘳𝘪𝘹 𝘵𝘰 𝘨𝘦𝘵 𝘵𝘩𝘦 𝘢𝘤𝘤𝘶𝘳𝘢𝘤𝘺 𝘰𝘧 𝘦𝘢𝘤𝘩 𝘮𝘰𝘥𝘦𝘭, 𝘸𝘦 𝘤𝘢𝘯 𝘴𝘪𝘮𝘱𝘭𝘺 𝘢𝘥𝘥 𝘵𝘩𝘦 𝘯𝘶𝘮𝘣𝘦𝘳 𝘰𝘧 𝘤𝘰𝘳𝘳𝘦𝘤𝘵𝘭𝘺 𝘱𝘳𝘦𝘥𝘪𝘤𝘵𝘦𝘥 𝘵𝘳𝘶𝘦 𝘱𝘰𝘴𝘪𝘵𝘪𝘷𝘦𝘴 𝘢𝘯𝘥 𝘵𝘳𝘶𝘦 𝘯𝘦𝘨𝘢𝘵𝘪𝘷𝘦𝘴 𝘧𝘰𝘳 𝘦𝘢𝘤𝘩 𝘮𝘰𝘥𝘦𝘭 𝘢𝘯𝘥 𝘥𝘪𝘷𝘪𝘥𝘦 𝘣𝘺 𝘵𝘩𝘦 𝘵𝘰𝘵𝘢𝘭 𝘯𝘶𝘮𝘣𝘦𝘳 𝘰𝘧 𝘱𝘳𝘦𝘥𝘪𝘤𝘵𝘪𝘰𝘯𝘴."
   ]
  },
  {
   "cell_type": "markdown",
   "id": "24167681",
   "metadata": {},
   "source": [
    "<h3>\n",
    "    <span style='color:DodgerBlue'>\n",
    "        𝙈𝙚𝙩𝙝𝙤𝙙𝙨 𝙩𝙤 𝙞𝙢𝙥𝙧𝙤𝙫𝙚 𝙖𝙘𝙘𝙪𝙧𝙖𝙘𝙮 :\n",
    "    </span>\n",
    "</h3>\n",
    "<br/>\n",
    "𝘈𝘴 𝘸𝘪𝘵𝘩 𝘢𝘯𝘺 𝘮𝘰𝘥𝘦𝘭, 𝘵𝘰 𝘪𝘮𝘱𝘳𝘰𝘷𝘦 𝘢𝘤𝘤𝘶𝘳𝘢𝘤𝘺, 𝘸𝘦 𝘴𝘩𝘰𝘶𝘭𝘥 𝘧𝘦𝘦𝘥 𝘪𝘵 𝘸𝘪𝘵𝘩 𝘮𝘰𝘳𝘦 𝘵𝘳𝘢𝘪𝘯𝘪𝘯𝘨 𝘥𝘢𝘵𝘢 𝘵𝘰 𝘭𝘦𝘢𝘳𝘯 𝘮𝘰𝘳𝘦. 𝘞𝘦 𝘤𝘢𝘯 𝘢𝘥𝘥 𝘮𝘰𝘳𝘦 𝘥𝘢𝘵𝘢 𝘰𝘳 𝘵𝘳𝘺 80% 𝘵𝘳𝘢𝘪𝘯𝘪𝘯𝘨 𝘥𝘢𝘵𝘢 𝘢𝘯𝘥 20% 𝘵𝘦𝘴𝘵𝘪𝘯𝘨 𝘥𝘢𝘵𝘢, but that may 𝘤𝘢𝘶𝘴𝘦 𝘰𝘵𝘩𝘦𝘳 𝘪𝘴𝘴𝘶𝘦𝘴, 𝘴𝘶𝘤𝘩 𝘢𝘴 𝘰𝘷𝘦𝘳𝘧𝘪𝘵𝘵𝘪𝘯𝘨. 𝘈𝘥𝘥𝘪𝘵𝘪𝘰𝘯𝘢𝘭𝘭𝘺, 𝘸𝘦 𝘤𝘰𝘶𝘭𝘥 𝘩𝘢𝘷𝘦 𝘣𝘦𝘦𝘯 𝘮𝘰𝘳𝘦 𝘱𝘳𝘦𝘤𝘪𝘴𝘦 𝘸𝘪𝘵𝘩 𝘧𝘪𝘭𝘭𝘪𝘯𝘨 𝘵𝘩𝘦 𝘯𝘶𝘭𝘭 𝘷𝘢𝘭𝘶𝘦𝘴 𝘰𝘧 𝘢𝘨𝘦 𝘵𝘰 𝘦𝘢𝘤𝘩 𝘤𝘭𝘢𝘴𝘴'𝘴 𝘮𝘦𝘢𝘯 𝘢𝘨𝘦 𝘪𝘯𝘴𝘵𝘦𝘢𝘥 𝘰𝘧 100."
   ]
  },
  {
   "cell_type": "markdown",
   "id": "da0c42d8",
   "metadata": {},
   "source": [
    "<h3>\n",
    "    <span style='color:DodgerBlue'>\n",
    "        𝙃𝙤𝙬 𝙙𝙞𝙙 𝙮𝙤𝙪 𝙩𝙚𝙨𝙩 𝙮𝙤𝙪𝙧 𝙢𝙤𝙙𝙚𝙡 ? : \n",
    "    </span>\n",
    "</h3>\n",
    "<br/>\n",
    "𝘛𝘰 𝘵𝘦𝘴𝘵 𝘰𝘶𝘳 𝘮𝘰𝘥𝘦𝘭 𝘸𝘦 𝘶𝘴𝘦𝘥 𝘵𝘩𝘦 𝘵𝘳𝘢𝘪𝘯_𝘵𝘦𝘴𝘵_𝘴𝘱𝘭𝘪𝘵 𝘧𝘶𝘯𝘤𝘵𝘪𝘰𝘯 𝘸𝘪𝘵𝘩 𝘢 𝘵𝘳𝘢𝘪𝘯 𝘴𝘪𝘻𝘦 𝘰𝘧 70% 𝘢𝘯𝘥 𝘢 𝘵𝘦𝘴𝘵 𝘴𝘪𝘻𝘦 𝘰𝘧 30% 𝘸𝘪𝘵𝘩 𝘢 𝘳𝘢𝘯𝘥𝘰𝘮 𝘴𝘵𝘢𝘵𝘦 𝘰𝘧 42. 𝘐𝘯 𝘴𝘩𝘰𝘳𝘵, 𝘸𝘦 𝘶𝘴𝘦𝘥 70% 𝘰𝘧 𝘵𝘩𝘦 𝘥𝘢𝘵𝘢 𝘧𝘰𝘳 𝘭𝘦𝘢𝘳𝘯𝘪𝘯𝘨 𝘵𝘰 𝘱𝘳𝘦𝘥𝘪𝘤𝘵 30% 𝘰𝘧 𝘵𝘩𝘦 𝘥𝘢𝘵𝘢 𝘧𝘰𝘳 𝘦𝘢𝘤𝘩 𝘰𝘧 𝘵𝘩𝘦 3 𝘮𝘰𝘥𝘦𝘭𝘴. 𝘛𝘰 𝘵𝘦𝘴𝘵 𝘪𝘵, 𝘸𝘦 𝘤𝘰𝘮𝘱𝘢𝘳𝘦𝘥 𝘵𝘩𝘦 𝘱𝘳𝘦𝘥𝘪𝘤𝘵𝘦𝘥 𝘴𝘶𝘳𝘷𝘪𝘷𝘰𝘳𝘴 𝘵𝘰 𝘵𝘩𝘦 𝘢𝘤𝘵𝘶𝘢𝘭 𝘴𝘶𝘳𝘷𝘪𝘷𝘰𝘳𝘴."
   ]
  },
  {
   "cell_type": "markdown",
   "id": "0c29905f",
   "metadata": {},
   "source": [
    "<h1 align=\"center\">\n",
    "    <span style='color:DodgerBlue'> \n",
    "        <span style='background: PaleTurquoise'>\n",
    "            𝙏𝙝𝙖𝙣𝙠𝙨 𝙛𝙤𝙧 𝙍𝙚𝙖𝙙𝙞𝙣𝙜 !\n",
    "        </span>\n",
    "    </span>\n",
    "</h1>"
   ]
  },
  {
   "cell_type": "markdown",
   "id": "9bfc39e7",
   "metadata": {},
   "source": [
    "![](img\\rps.jpg)"
   ]
  },
  {
   "cell_type": "markdown",
   "id": "6b809793",
   "metadata": {},
   "source": [
    "\n",
    "<a id = 1> </a> <br> \n",
    "                                                     [𝗥𝗲𝗮𝗱 𝗳𝗿𝗼𝗺 𝗕𝗲𝗴𝗶𝗻𝗻𝗶𝗻𝗴](#1)\n"
   ]
  }
 ],
 "metadata": {
  "kernelspec": {
   "display_name": "Python 3",
   "language": "python",
   "name": "python3"
  },
  "language_info": {
   "codemirror_mode": {
    "name": "ipython",
    "version": 3
   },
   "file_extension": ".py",
   "mimetype": "text/x-python",
   "name": "python",
   "nbconvert_exporter": "python",
   "pygments_lexer": "ipython3",
   "version": "3.8.8"
  }
 },
 "nbformat": 4,
 "nbformat_minor": 5
}
