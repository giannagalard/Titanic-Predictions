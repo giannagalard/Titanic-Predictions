{
 "cells": [
  {
   "cell_type": "code",
   "execution_count": 111,
   "id": "8a0a6e11",
   "metadata": {},
   "outputs": [],
   "source": [
    "import numpy as np\n",
    "import pandas as pd\n",
    "from matplotlib import pyplot as plt\n",
    "# divide data into train and test sets\n",
    "from sklearn.model_selection import train_test_split "
   ]
  },
  {
   "cell_type": "code",
   "execution_count": 112,
   "id": "e7db13ed",
   "metadata": {},
   "outputs": [],
   "source": [
    "# load dataset\n",
    "test_df = pd.read_csv('test.csv')"
   ]
  },
  {
   "cell_type": "code",
   "execution_count": 113,
   "id": "a0d8f721",
   "metadata": {},
   "outputs": [],
   "source": [
    "# LOOK AT THE DATA AND SEE IF THERE ARE ANY SUMMARY STATISTICS THAT MIGHT GIVE YOU SOME INSIGHTS"
   ]
  },
  {
   "cell_type": "code",
   "execution_count": 114,
   "id": "27da13a2",
   "metadata": {},
   "outputs": [
    {
     "name": "stdout",
     "output_type": "stream",
     "text": [
      "(891, 14)\n",
      "(418, 11)\n"
     ]
    }
   ],
   "source": [
    "# print shape of train and test dataframes\n",
    "print(train_df.shape) \n",
    "print(test_df.shape) "
   ]
  },
  {
   "cell_type": "code",
   "execution_count": 115,
   "id": "14ce9634",
   "metadata": {},
   "outputs": [
    {
     "name": "stdout",
     "output_type": "stream",
     "text": [
      "   PassengerId  Survived  Pclass  \\\n",
      "0            1         0       3   \n",
      "1            2         1       1   \n",
      "2            3         1       3   \n",
      "3            4         1       1   \n",
      "4            5         0       3   \n",
      "\n",
      "                                                Name     Sex   Age  SibSp  \\\n",
      "0                            Braund, Mr. Owen Harris    male  22.0      1   \n",
      "1  Cumings, Mrs. John Bradley (Florence Briggs Th...  female  38.0      1   \n",
      "2                             Heikkinen, Miss. Laina  female  26.0      0   \n",
      "3       Futrelle, Mrs. Jacques Heath (Lily May Peel)  female  35.0      1   \n",
      "4                           Allen, Mr. William Henry    male  35.0      0   \n",
      "\n",
      "   Parch            Ticket     Fare Cabin  Embarked  has_cabin  is_male  \n",
      "0      0         A/5 21171   7.2500   NaN         0          1        1  \n",
      "1      0          PC 17599  71.2833   C85         0          0        0  \n",
      "2      0  STON/O2. 3101282   7.9250   NaN         0          1        0  \n",
      "3      0            113803  53.1000  C123         0          0        0  \n",
      "4      0            373450   8.0500   NaN         0          1        1  \n"
     ]
    }
   ],
   "source": [
    "# print first 5 rows of train dataframe\n",
    "print(train_df.head())"
   ]
  },
  {
   "cell_type": "code",
   "execution_count": 116,
   "id": "035cfde9",
   "metadata": {},
   "outputs": [
    {
     "name": "stdout",
     "output_type": "stream",
     "text": [
      "<class 'pandas.core.frame.DataFrame'>\n",
      "RangeIndex: 891 entries, 0 to 890\n",
      "Data columns (total 14 columns):\n",
      " #   Column       Non-Null Count  Dtype  \n",
      "---  ------       --------------  -----  \n",
      " 0   PassengerId  891 non-null    int64  \n",
      " 1   Survived     891 non-null    int64  \n",
      " 2   Pclass       891 non-null    int64  \n",
      " 3   Name         891 non-null    object \n",
      " 4   Sex          891 non-null    object \n",
      " 5   Age          891 non-null    float64\n",
      " 6   SibSp        891 non-null    int64  \n",
      " 7   Parch        891 non-null    int64  \n",
      " 8   Ticket       891 non-null    object \n",
      " 9   Fare         891 non-null    float64\n",
      " 10  Cabin        204 non-null    object \n",
      " 11  Embarked     891 non-null    int64  \n",
      " 12  has_cabin    891 non-null    int64  \n",
      " 13  is_male      891 non-null    int32  \n",
      "dtypes: float64(2), int32(1), int64(7), object(4)\n",
      "memory usage: 94.1+ KB\n",
      "None\n"
     ]
    }
   ],
   "source": [
    "# print train dataframe info \n",
    "print(train_df.info())"
   ]
  },
  {
   "cell_type": "code",
   "execution_count": 117,
   "id": "762d0cb0",
   "metadata": {},
   "outputs": [
    {
     "name": "stdout",
     "output_type": "stream",
     "text": [
      "There are 4 categorical columns in the dataset:\n",
      "Name : 891 labels\n",
      "Sex : 2 labels\n",
      "Ticket : 681 labels\n",
      "Cabin : 148 labels\n"
     ]
    }
   ],
   "source": [
    "# select all columns that are objects\n",
    "categorical_columns = train_df.select_dtypes(include=['object'])\n",
    "# print number of categorical columns\n",
    "print(f'There are {len(categorical_columns.columns.tolist())} categorical columns in the dataset:')\n",
    "# for each column in categorical columns, print column name and number of unique values\n",
    "for cols in categorical_columns.columns: \n",
    "    print(cols,':', len(categorical_columns[cols].unique()),'labels')"
   ]
  },
  {
   "cell_type": "code",
   "execution_count": 118,
   "id": "23b4fd37",
   "metadata": {},
   "outputs": [],
   "source": [
    "# DATA CLEANING AND FEATURE ENGINEERING"
   ]
  },
  {
   "cell_type": "code",
   "execution_count": 119,
   "id": "d072adf7",
   "metadata": {},
   "outputs": [
    {
     "name": "stdout",
     "output_type": "stream",
     "text": [
      "Series([], Name: Embarked, dtype: int64)\n"
     ]
    }
   ],
   "source": [
    "# create booleans for each of the embarkment points\n",
    "train_df['Embarked'] = train_df['Embarked'].fillna('S')\n",
    "train_df['Embarked'] = train_df['Embarked'].map({'S': 0, 'C': 1, 'Q': 2})\n",
    "# print the boolean variable for each of the embarkment points\n",
    "print(train_df['Embarked'].value_counts())"
   ]
  },
  {
   "cell_type": "code",
   "execution_count": 120,
   "id": "2179e469",
   "metadata": {},
   "outputs": [
    {
     "data": {
      "text/plain": [
       "0      1\n",
       "1      0\n",
       "2      0\n",
       "3      0\n",
       "4      1\n",
       "      ..\n",
       "886    1\n",
       "887    0\n",
       "888    0\n",
       "889    1\n",
       "890    1\n",
       "Name: male, Length: 891, dtype: uint8"
      ]
     },
     "execution_count": 120,
     "metadata": {},
     "output_type": "execute_result"
    }
   ],
   "source": [
    "# Create a boolean for is male. \n",
    "#not sure if this is how you do it\n",
    "\n",
    "train_df_sex = pd.get_dummies(train_df['Sex'])\n",
    "isMale = train_df_sex['male']\n",
    "isMale"
   ]
  },
  {
   "cell_type": "code",
   "execution_count": 121,
   "id": "e7b9c2db",
   "metadata": {},
   "outputs": [],
   "source": [
    "#Create a boolean for whether someone has a cabin\n",
    "PeopleWithCabin = train_df[train_df['Cabin'].isnull() == False]\n",
    "PeopleWithoutCabin = train_df[train_df['Cabin'].isnull()]\n",
    "\n",
    "#still working on how to create the boolean for this "
   ]
  },
  {
   "cell_type": "code",
   "execution_count": 122,
   "id": "9c3b945d",
   "metadata": {},
   "outputs": [
    {
     "name": "stdout",
     "output_type": "stream",
     "text": [
      "PassengerId      0\n",
      "Survived         0\n",
      "Pclass           0\n",
      "Name             0\n",
      "Sex              0\n",
      "Age              0\n",
      "SibSp            0\n",
      "Parch            0\n",
      "Ticket           0\n",
      "Fare             0\n",
      "Cabin          687\n",
      "Embarked       891\n",
      "has_cabin        0\n",
      "is_male          0\n",
      "dtype: int64\n"
     ]
    }
   ],
   "source": [
    "# check for missing values in the data\n",
    "print(train_df.isnull().sum())"
   ]
  },
  {
   "cell_type": "code",
   "execution_count": 123,
   "id": "3622ccf9",
   "metadata": {},
   "outputs": [],
   "source": [
    "# create boolean variable for each of the embarkment points\n",
    "# for each value in the Embarked column\n",
    "for uwu in train_df.Embarked.unique(): \n",
    "    # if it is a string (just to be safe lol)\n",
    "    if type(uwu) == str: \n",
    "        # create a new column with the boolean value\n",
    "        train_df['emb' + uwu] = (train_df.Embarked == uwu) * 1 "
   ]
  },
  {
   "cell_type": "code",
   "execution_count": 124,
   "id": "f0608cf0",
   "metadata": {},
   "outputs": [],
   "source": [
    "# create boolean variable for is male\n",
    "train_df['is_male'] = (train_df.Sex == 'male') * 1 "
   ]
  },
  {
   "cell_type": "code",
   "execution_count": 125,
   "id": "175f9038",
   "metadata": {},
   "outputs": [],
   "source": [
    "# create boolean variable for has cabin\n",
    "train_df.loc[:, 'has_cabin'] = 0\n",
    "train_df.loc[train_df.Cabin.isna(), 'has_cabin'] = 1"
   ]
  },
  {
   "cell_type": "code",
   "execution_count": 126,
   "id": "c25df085",
   "metadata": {},
   "outputs": [
    {
     "data": {
      "text/plain": [
       "0       22.0\n",
       "1       38.0\n",
       "2       26.0\n",
       "3       35.0\n",
       "4       35.0\n",
       "       ...  \n",
       "886     27.0\n",
       "887     19.0\n",
       "888    100.0\n",
       "889     26.0\n",
       "890     32.0\n",
       "Name: Age, Length: 891, dtype: float64"
      ]
     },
     "execution_count": 126,
     "metadata": {},
     "output_type": "execute_result"
    }
   ],
   "source": [
    "# fill missing age values as 100 \n",
    "train_df['Age'].fillna(100)"
   ]
  },
  {
   "cell_type": "code",
   "execution_count": 127,
   "id": "20b799ad",
   "metadata": {},
   "outputs": [],
   "source": [
    "# divide the data into a training set and a testing set\n",
    "X = train_df[[\"Pclass\", \"Age\", \"Sex\", \"SibSp\", \"Parch\", \"Embarked\"]]\n",
    "Y = train_df[\"Survived\"]"
   ]
  },
  {
   "cell_type": "code",
   "execution_count": 128,
   "id": "a5189f9c",
   "metadata": {},
   "outputs": [],
   "source": [
    "X_train, X_test, y_train, y_test = train_test_split(X, Y, random_state = 0)"
   ]
  }
 ],
 "metadata": {
  "kernelspec": {
   "display_name": "Python 3",
   "language": "python",
   "name": "python3"
  },
  "language_info": {
   "codemirror_mode": {
    "name": "ipython",
    "version": 3
   },
   "file_extension": ".py",
   "mimetype": "text/x-python",
   "name": "python",
   "nbconvert_exporter": "python",
   "pygments_lexer": "ipython3",
   "version": "3.8.8"
  }
 },
 "nbformat": 4,
 "nbformat_minor": 5
}
